{
 "cells": [
  {
   "cell_type": "code",
   "execution_count": 1,
   "metadata": {},
   "outputs": [],
   "source": [
    "import numpy as np\n",
    "import matplotlib.pyplot as plt\n",
    "import pandas as pd\n",
    "\n",
    "from sklearn.datasets import load_iris\n",
    "from sklearn.model_selection import train_test_split\n",
    "from sklearn.linear_model import LinearRegression, LogisticRegression\n",
    "from sklearn.metrics import mean_squared_error"
   ]
  },
  {
   "cell_type": "code",
   "execution_count": 2,
   "metadata": {},
   "outputs": [
    {
     "data": {
      "text/plain": [
       "'\\nKészíts egy függvényt, betölti majd vissza adja az iris adathalmazt.\\n\\n\\nEgy példa a kimenetre: iris\\nreturn type: sklearn.utils.Bunch\\nfüggvény neve: load_iris_data\\n'"
      ]
     },
     "execution_count": 2,
     "metadata": {},
     "output_type": "execute_result"
    }
   ],
   "source": [
    "'''\n",
    "Készíts egy függvényt, betölti majd vissza adja az iris adathalmazt.\n",
    "\n",
    "\n",
    "Egy példa a kimenetre: iris\n",
    "return type: sklearn.utils.Bunch\n",
    "függvény neve: load_iris_data\n",
    "'''"
   ]
  },
  {
   "cell_type": "code",
   "execution_count": 3,
   "metadata": {},
   "outputs": [],
   "source": [
    "#1\n",
    "def load_iris_data():\n",
    "    iris =  load_iris()\n",
    "    return iris\n",
    "\n",
    "dataf= load_iris()"
   ]
  },
  {
   "cell_type": "code",
   "execution_count": 4,
   "metadata": {},
   "outputs": [
    {
     "data": {
      "text/plain": [
       "'\\nKészíts egy függvényt, ami a betölti az virágokhoz tartozó levél méretket egy dataframebe, majd az első 5 sort visszaadja.\\nMinden oszlop tartalmazza, hogy az milyen mérethez tartozik.\\n\\nEgy példa a bemenetre: iris\\nEgy példa a kimenetre: iris_df\\nreturn type: pandas.core.frame.DataFrame\\nfüggvény neve: check_data\\n'"
      ]
     },
     "execution_count": 4,
     "metadata": {},
     "output_type": "execute_result"
    }
   ],
   "source": [
    "'''\n",
    "Készíts egy függvényt, ami a betölti az virágokhoz tartozó levél méretket egy dataframebe, majd az első 5 sort visszaadja.\n",
    "Minden oszlop tartalmazza, hogy az milyen mérethez tartozik.\n",
    "\n",
    "Egy példa a bemenetre: iris\n",
    "Egy példa a kimenetre: iris_df\n",
    "return type: pandas.core.frame.DataFrame\n",
    "függvény neve: check_data\n",
    "'''"
   ]
  },
  {
   "cell_type": "code",
   "execution_count": 5,
   "metadata": {},
   "outputs": [],
   "source": [
    "#2\n",
    "def check_data(iris)-> pd.DataFrame:\n",
    "    df = pd.DataFrame(iris.data, columns=iris.feature_names).head(5)\n",
    "    return df"
   ]
  },
  {
   "cell_type": "code",
   "execution_count": 6,
   "metadata": {},
   "outputs": [
    {
     "data": {
      "text/plain": [
       "' \\nKészíts egy függvényt ami előkészíti az adatokat egy lineaáris regressziós model feltanításához.\\nFeaturejeink legyenek a levél méretek kivéve a \"sepal length (cm)\", ez legyen a targetünk.\\n\\nEgy példa a bemenetre: iris\\nEgy példa a kimenetre: X, y\\nreturn type: (numpy.ndarray, numpy.ndarray)\\nfüggvény neve: linear_train_data\\n'"
      ]
     },
     "execution_count": 6,
     "metadata": {},
     "output_type": "execute_result"
    }
   ],
   "source": [
    "''' \n",
    "Készíts egy függvényt ami előkészíti az adatokat egy lineaáris regressziós model feltanításához.\n",
    "Featurejeink legyenek a levél méretek kivéve a \"sepal length (cm)\", ez legyen a targetünk.\n",
    "\n",
    "Egy példa a bemenetre: iris\n",
    "Egy példa a kimenetre: X, y\n",
    "return type: (numpy.ndarray, numpy.ndarray)\n",
    "függvény neve: linear_train_data\n",
    "'''"
   ]
  },
  {
   "cell_type": "code",
   "execution_count": 7,
   "metadata": {},
   "outputs": [],
   "source": [
    "#3\n",
    "def linear_train_data(iris):\n",
    "    df = pd.DataFrame(iris.data, columns=iris.feature_names)\n",
    "    X = df.drop('sepal length (cm)', axis=1).values\n",
    "    y = df['sepal length (cm)'].values\n",
    "    return X, y\n",
    "\n",
    "X,y=linear_train_data(dataf)"
   ]
  },
  {
   "cell_type": "code",
   "execution_count": 8,
   "metadata": {},
   "outputs": [
    {
     "data": {
      "text/plain": [
       "' \\nKészíts egy függvényt ami előkészíti az adatokat egy logisztikus regressziós model feltanításához.\\nFeaturejeink legyenek a levél méretek, targetünk pedig a 0, 1-es virág osztályok.\\nFontos csak azokkal az adatokkal tanítsunk amihez tartozik adott target. \\n\\nEgy példa a bemenetre: iris\\nEgy példa a kimenetre: X, y\\nreturn type: (numpy.ndarray, numpy.ndarray)\\nfüggvény neve: logistic_train_data\\n'"
      ]
     },
     "execution_count": 8,
     "metadata": {},
     "output_type": "execute_result"
    }
   ],
   "source": [
    "''' \n",
    "Készíts egy függvényt ami előkészíti az adatokat egy logisztikus regressziós model feltanításához.\n",
    "Featurejeink legyenek a levél méretek, targetünk pedig a 0, 1-es virág osztályok.\n",
    "Fontos csak azokkal az adatokkal tanítsunk amihez tartozik adott target. \n",
    "\n",
    "Egy példa a bemenetre: iris\n",
    "Egy példa a kimenetre: X, y\n",
    "return type: (numpy.ndarray, numpy.ndarray)\n",
    "függvény neve: logistic_train_data\n",
    "'''"
   ]
  },
  {
   "cell_type": "code",
   "execution_count": 13,
   "metadata": {},
   "outputs": [
    {
     "data": {
      "text/plain": [
       "(array([[5.1, 3.5, 1.4, 0.2],\n",
       "        [4.9, 3. , 1.4, 0.2],\n",
       "        [4.7, 3.2, 1.3, 0.2],\n",
       "        [4.6, 3.1, 1.5, 0.2],\n",
       "        [5. , 3.6, 1.4, 0.2],\n",
       "        [5.4, 3.9, 1.7, 0.4],\n",
       "        [4.6, 3.4, 1.4, 0.3],\n",
       "        [5. , 3.4, 1.5, 0.2],\n",
       "        [4.4, 2.9, 1.4, 0.2],\n",
       "        [4.9, 3.1, 1.5, 0.1],\n",
       "        [5.4, 3.7, 1.5, 0.2],\n",
       "        [4.8, 3.4, 1.6, 0.2],\n",
       "        [4.8, 3. , 1.4, 0.1],\n",
       "        [4.3, 3. , 1.1, 0.1],\n",
       "        [5.8, 4. , 1.2, 0.2],\n",
       "        [5.7, 4.4, 1.5, 0.4],\n",
       "        [5.4, 3.9, 1.3, 0.4],\n",
       "        [5.1, 3.5, 1.4, 0.3],\n",
       "        [5.7, 3.8, 1.7, 0.3],\n",
       "        [5.1, 3.8, 1.5, 0.3],\n",
       "        [5.4, 3.4, 1.7, 0.2],\n",
       "        [5.1, 3.7, 1.5, 0.4],\n",
       "        [4.6, 3.6, 1. , 0.2],\n",
       "        [5.1, 3.3, 1.7, 0.5],\n",
       "        [4.8, 3.4, 1.9, 0.2],\n",
       "        [5. , 3. , 1.6, 0.2],\n",
       "        [5. , 3.4, 1.6, 0.4],\n",
       "        [5.2, 3.5, 1.5, 0.2],\n",
       "        [5.2, 3.4, 1.4, 0.2],\n",
       "        [4.7, 3.2, 1.6, 0.2],\n",
       "        [4.8, 3.1, 1.6, 0.2],\n",
       "        [5.4, 3.4, 1.5, 0.4],\n",
       "        [5.2, 4.1, 1.5, 0.1],\n",
       "        [5.5, 4.2, 1.4, 0.2],\n",
       "        [4.9, 3.1, 1.5, 0.2],\n",
       "        [5. , 3.2, 1.2, 0.2],\n",
       "        [5.5, 3.5, 1.3, 0.2],\n",
       "        [4.9, 3.6, 1.4, 0.1],\n",
       "        [4.4, 3. , 1.3, 0.2],\n",
       "        [5.1, 3.4, 1.5, 0.2],\n",
       "        [5. , 3.5, 1.3, 0.3],\n",
       "        [4.5, 2.3, 1.3, 0.3],\n",
       "        [4.4, 3.2, 1.3, 0.2],\n",
       "        [5. , 3.5, 1.6, 0.6],\n",
       "        [5.1, 3.8, 1.9, 0.4],\n",
       "        [4.8, 3. , 1.4, 0.3],\n",
       "        [5.1, 3.8, 1.6, 0.2],\n",
       "        [4.6, 3.2, 1.4, 0.2],\n",
       "        [5.3, 3.7, 1.5, 0.2],\n",
       "        [5. , 3.3, 1.4, 0.2],\n",
       "        [7. , 3.2, 4.7, 1.4],\n",
       "        [6.4, 3.2, 4.5, 1.5],\n",
       "        [6.9, 3.1, 4.9, 1.5],\n",
       "        [5.5, 2.3, 4. , 1.3],\n",
       "        [6.5, 2.8, 4.6, 1.5],\n",
       "        [5.7, 2.8, 4.5, 1.3],\n",
       "        [6.3, 3.3, 4.7, 1.6],\n",
       "        [4.9, 2.4, 3.3, 1. ],\n",
       "        [6.6, 2.9, 4.6, 1.3],\n",
       "        [5.2, 2.7, 3.9, 1.4],\n",
       "        [5. , 2. , 3.5, 1. ],\n",
       "        [5.9, 3. , 4.2, 1.5],\n",
       "        [6. , 2.2, 4. , 1. ],\n",
       "        [6.1, 2.9, 4.7, 1.4],\n",
       "        [5.6, 2.9, 3.6, 1.3],\n",
       "        [6.7, 3.1, 4.4, 1.4],\n",
       "        [5.6, 3. , 4.5, 1.5],\n",
       "        [5.8, 2.7, 4.1, 1. ],\n",
       "        [6.2, 2.2, 4.5, 1.5],\n",
       "        [5.6, 2.5, 3.9, 1.1],\n",
       "        [5.9, 3.2, 4.8, 1.8],\n",
       "        [6.1, 2.8, 4. , 1.3],\n",
       "        [6.3, 2.5, 4.9, 1.5],\n",
       "        [6.1, 2.8, 4.7, 1.2],\n",
       "        [6.4, 2.9, 4.3, 1.3],\n",
       "        [6.6, 3. , 4.4, 1.4],\n",
       "        [6.8, 2.8, 4.8, 1.4],\n",
       "        [6.7, 3. , 5. , 1.7],\n",
       "        [6. , 2.9, 4.5, 1.5],\n",
       "        [5.7, 2.6, 3.5, 1. ],\n",
       "        [5.5, 2.4, 3.8, 1.1],\n",
       "        [5.5, 2.4, 3.7, 1. ],\n",
       "        [5.8, 2.7, 3.9, 1.2],\n",
       "        [6. , 2.7, 5.1, 1.6],\n",
       "        [5.4, 3. , 4.5, 1.5],\n",
       "        [6. , 3.4, 4.5, 1.6],\n",
       "        [6.7, 3.1, 4.7, 1.5],\n",
       "        [6.3, 2.3, 4.4, 1.3],\n",
       "        [5.6, 3. , 4.1, 1.3],\n",
       "        [5.5, 2.5, 4. , 1.3],\n",
       "        [5.5, 2.6, 4.4, 1.2],\n",
       "        [6.1, 3. , 4.6, 1.4],\n",
       "        [5.8, 2.6, 4. , 1.2],\n",
       "        [5. , 2.3, 3.3, 1. ],\n",
       "        [5.6, 2.7, 4.2, 1.3],\n",
       "        [5.7, 3. , 4.2, 1.2],\n",
       "        [5.7, 2.9, 4.2, 1.3],\n",
       "        [6.2, 2.9, 4.3, 1.3],\n",
       "        [5.1, 2.5, 3. , 1.1],\n",
       "        [5.7, 2.8, 4.1, 1.3]]),\n",
       " array([0, 0, 0, 0, 0, 0, 0, 0, 0, 0, 0, 0, 0, 0, 0, 0, 0, 0, 0, 0, 0, 0,\n",
       "        0, 0, 0, 0, 0, 0, 0, 0, 0, 0, 0, 0, 0, 0, 0, 0, 0, 0, 0, 0, 0, 0,\n",
       "        0, 0, 0, 0, 0, 0, 1, 1, 1, 1, 1, 1, 1, 1, 1, 1, 1, 1, 1, 1, 1, 1,\n",
       "        1, 1, 1, 1, 1, 1, 1, 1, 1, 1, 1, 1, 1, 1, 1, 1, 1, 1, 1, 1, 1, 1,\n",
       "        1, 1, 1, 1, 1, 1, 1, 1, 1, 1, 1, 1]))"
      ]
     },
     "execution_count": 13,
     "metadata": {},
     "output_type": "execute_result"
    }
   ],
   "source": [
    "#4\n",
    "def logistic_train_data(iris):\n",
    "    df = pd.DataFrame(iris.data, columns=iris.feature_names)\n",
    "    X = df.loc[np.where(iris.target <2)].values\n",
    "    y = iris.target[np.where(iris.target < 2)]\n",
    "    return (X, y)"
   ]
  },
  {
   "cell_type": "code",
   "execution_count": null,
   "metadata": {},
   "outputs": [],
   "source": [
    "'''\n",
    "Készíts egy függvényt ami feldarabolja az adatainkat train és test részre. Az adatok 20%-át használjuk fel a teszteléshez.\n",
    "Tegyük determenisztikussá a darabolást, ennek értéke legyen 42.\n",
    "\n",
    "Egy példa a bemenetre: X, y\n",
    "Egy példa a kimenetre: X_train, X_test, y_train, y_test\n",
    "return type: (numpy.ndarray, numpy.ndarray, numpy.ndarray, numpy.ndarray)\n",
    "függvény neve: split_data\n",
    "'''"
   ]
  },
  {
   "cell_type": "code",
   "execution_count": 14,
   "metadata": {},
   "outputs": [
    {
     "data": {
      "text/plain": [
       "(array([[3.6, 1. , 0.2],\n",
       "        [4.4, 1.5, 0.4],\n",
       "        [3.1, 4.4, 1.4],\n",
       "        [3.4, 1.6, 0.2],\n",
       "        [3.2, 1.3, 0.2],\n",
       "        [2.5, 5. , 1.9],\n",
       "        [3.2, 4.5, 1.5],\n",
       "        [3.5, 1.5, 0.2],\n",
       "        [3.6, 1.4, 0.2],\n",
       "        [4.1, 1.5, 0.1],\n",
       "        [2.7, 5.1, 1.9],\n",
       "        [3.4, 4.5, 1.6],\n",
       "        [3.1, 4.7, 1.5],\n",
       "        [3.9, 1.3, 0.4],\n",
       "        [3.7, 1.5, 0.2],\n",
       "        [2.4, 3.7, 1. ],\n",
       "        [2.8, 5.1, 1.5],\n",
       "        [3.1, 5.5, 1.8],\n",
       "        [3. , 4.4, 1.4],\n",
       "        [3.6, 6.1, 2.5],\n",
       "        [2.9, 4.2, 1.3],\n",
       "        [3. , 6.6, 2.1],\n",
       "        [3. , 4.5, 1.5],\n",
       "        [3.5, 1.4, 0.2],\n",
       "        [2.8, 6.7, 2. ],\n",
       "        [2.7, 4.1, 1. ],\n",
       "        [3.4, 1.4, 0.2],\n",
       "        [3.5, 1.3, 0.3],\n",
       "        [3.8, 1.9, 0.4],\n",
       "        [2. , 3.5, 1. ],\n",
       "        [2.7, 4.9, 1.8],\n",
       "        [3.4, 1.9, 0.2],\n",
       "        [3. , 1.6, 0.2],\n",
       "        [3.3, 1.7, 0.5],\n",
       "        [2.7, 4.2, 1.3],\n",
       "        [3.4, 1.5, 0.2],\n",
       "        [3. , 4.2, 1.2],\n",
       "        [3.8, 6.7, 2.2],\n",
       "        [3.2, 1.4, 0.2],\n",
       "        [2.9, 4.3, 1.3],\n",
       "        [2.5, 5. , 2. ],\n",
       "        [4.2, 1.4, 0.2],\n",
       "        [3. , 4.8, 1.8],\n",
       "        [2.7, 5.1, 1.9],\n",
       "        [2.2, 4. , 1. ],\n",
       "        [3. , 4.5, 1.5],\n",
       "        [3.4, 5.4, 2.3],\n",
       "        [2.3, 4. , 1.3],\n",
       "        [3.9, 1.7, 0.4],\n",
       "        [2.3, 3.3, 1. ],\n",
       "        [2.7, 5.3, 1.9],\n",
       "        [3.3, 1.4, 0.2],\n",
       "        [3.2, 1.2, 0.2],\n",
       "        [2.4, 3.8, 1.1],\n",
       "        [3. , 5. , 1.7],\n",
       "        [3.1, 1.5, 0.2],\n",
       "        [2.8, 5.1, 2.4],\n",
       "        [3.4, 1.5, 0.2],\n",
       "        [3.5, 1.6, 0.6],\n",
       "        [3.2, 4.8, 1.8],\n",
       "        [2.5, 3. , 1.1],\n",
       "        [3.2, 5.7, 2.3],\n",
       "        [2.7, 5.1, 1.6],\n",
       "        [2.6, 5.6, 1.4],\n",
       "        [3. , 6.1, 2.3],\n",
       "        [2.5, 4. , 1.3],\n",
       "        [2.9, 1.4, 0.2],\n",
       "        [3. , 1.1, 0.1],\n",
       "        [2.2, 5. , 1.5],\n",
       "        [3.2, 6. , 1.8],\n",
       "        [3.1, 1.5, 0.2],\n",
       "        [3.5, 1.4, 0.3],\n",
       "        [3. , 1.3, 0.2],\n",
       "        [2.5, 4.9, 1.5],\n",
       "        [3.4, 5.6, 2.4],\n",
       "        [3.4, 1.4, 0.3],\n",
       "        [3. , 5.5, 2.1],\n",
       "        [3.3, 6. , 2.5],\n",
       "        [3.2, 1.3, 0.2],\n",
       "        [2.9, 4.7, 1.4],\n",
       "        [2.8, 4.6, 1.5],\n",
       "        [2.8, 4.8, 1.8],\n",
       "        [3.2, 4.7, 1.4],\n",
       "        [3.2, 5.3, 2.3],\n",
       "        [3.8, 1.6, 0.2],\n",
       "        [3.1, 5.4, 2.1],\n",
       "        [3. , 4.2, 1.5],\n",
       "        [3. , 5.2, 2. ],\n",
       "        [2.6, 3.5, 1. ],\n",
       "        [2.7, 3.9, 1.4],\n",
       "        [3. , 4.6, 1.4],\n",
       "        [2.3, 1.3, 0.3],\n",
       "        [2.9, 4.6, 1.3],\n",
       "        [2.6, 4.4, 1.2],\n",
       "        [3.7, 1.5, 0.2],\n",
       "        [3. , 4.1, 1.3],\n",
       "        [2.9, 6.3, 1.8],\n",
       "        [3.3, 5.7, 2.1],\n",
       "        [3.7, 1.5, 0.4],\n",
       "        [2.4, 3.3, 1. ],\n",
       "        [3.3, 5.7, 2.5],\n",
       "        [3. , 5.8, 1.6],\n",
       "        [3.6, 1.4, 0.1],\n",
       "        [3.1, 5.6, 2.4],\n",
       "        [3. , 1.4, 0.2],\n",
       "        [3.1, 4.9, 1.5],\n",
       "        [2.8, 6.1, 1.9],\n",
       "        [2.9, 5.6, 1.8],\n",
       "        [2.8, 4.1, 1.3],\n",
       "        [3. , 5.5, 1.8],\n",
       "        [2.3, 4.4, 1.3],\n",
       "        [2.9, 4.3, 1.3],\n",
       "        [2.8, 4.9, 2. ],\n",
       "        [3. , 5.1, 1.8],\n",
       "        [3.4, 1.7, 0.2],\n",
       "        [2.8, 4. , 1.3],\n",
       "        [2.5, 4.5, 1.7],\n",
       "        [4. , 1.2, 0.2],\n",
       "        [2.6, 4. , 1.2],\n",
       "        [3. , 5.9, 2.1]]),\n",
       " array([[2.8, 4.7, 1.2],\n",
       "        [3.8, 1.7, 0.3],\n",
       "        [2.6, 6.9, 2.3],\n",
       "        [2.9, 4.5, 1.5],\n",
       "        [2.8, 4.8, 1.4],\n",
       "        [3.4, 1.5, 0.4],\n",
       "        [2.9, 3.6, 1.3],\n",
       "        [3.1, 5.1, 2.3],\n",
       "        [2.2, 4.5, 1.5],\n",
       "        [2.7, 3.9, 1.2],\n",
       "        [3.2, 5.1, 2. ],\n",
       "        [3. , 1.4, 0.1],\n",
       "        [3.5, 1.3, 0.2],\n",
       "        [3.1, 1.5, 0.1],\n",
       "        [3.8, 1.5, 0.3],\n",
       "        [3.3, 4.7, 1.6],\n",
       "        [3. , 5.8, 2.2],\n",
       "        [2.5, 3.9, 1.1],\n",
       "        [2.8, 4.5, 1.3],\n",
       "        [2.8, 5.6, 2.2],\n",
       "        [3.2, 1.6, 0.2],\n",
       "        [3. , 4.9, 1.8],\n",
       "        [3.4, 1.6, 0.4],\n",
       "        [2.8, 5.6, 2.1],\n",
       "        [3.8, 6.4, 2. ],\n",
       "        [3. , 5.2, 2.3],\n",
       "        [2.5, 5.8, 1.8],\n",
       "        [3.2, 5.9, 2.3],\n",
       "        [3. , 1.4, 0.3],\n",
       "        [3.1, 1.6, 0.2]]),\n",
       " array([4.6, 5.7, 6.7, 4.8, 4.4, 6.3, 6.4, 5.2, 5. , 5.2, 5.8, 6. , 6.7,\n",
       "        5.4, 5.4, 5.5, 6.3, 6.4, 6.6, 7.2, 5.7, 7.6, 5.6, 5.1, 7.7, 5.8,\n",
       "        5.2, 5. , 5.1, 5. , 6.3, 4.8, 5. , 5.1, 5.6, 5.1, 5.7, 7.7, 4.6,\n",
       "        6.2, 5.7, 5.5, 6. , 5.8, 6. , 5.4, 6.2, 5.5, 5.4, 5. , 6.4, 5. ,\n",
       "        5. , 5.5, 6.7, 4.9, 5.8, 5. , 5. , 5.9, 5.1, 6.9, 6. , 6.1, 7.7,\n",
       "        5.5, 4.4, 4.3, 6. , 7.2, 4.6, 5.1, 4.4, 6.3, 6.3, 4.6, 6.8, 6.3,\n",
       "        4.7, 6.1, 6.5, 6.2, 7. , 6.4, 5.1, 6.9, 5.9, 6.5, 5.7, 5.2, 6.1,\n",
       "        4.5, 6.6, 5.5, 5.3, 5.6, 7.3, 6.7, 5.1, 4.9, 6.7, 7.2, 4.9, 6.7,\n",
       "        4.9, 6.9, 7.4, 6.3, 5.7, 6.5, 6.3, 6.4, 5.6, 5.9, 5.4, 6.1, 4.9,\n",
       "        5.8, 5.8, 7.1]),\n",
       " array([6.1, 5.7, 7.7, 6. , 6.8, 5.4, 5.6, 6.9, 6.2, 5.8, 6.5, 4.8, 5.5,\n",
       "        4.9, 5.1, 6.3, 6.5, 5.6, 5.7, 6.4, 4.7, 6.1, 5. , 6.4, 7.9, 6.7,\n",
       "        6.7, 6.8, 4.8, 4.8]))"
      ]
     },
     "execution_count": 14,
     "metadata": {},
     "output_type": "execute_result"
    }
   ],
   "source": [
    "#5\n",
    "def split_data(X, y):\n",
    "    X_train, X_test, y_train, y_test = train_test_split(X, y, test_size=0.2, random_state=42)\n",
    "    return(X_train, X_test, y_train, y_test)\n"
   ]
  },
  {
   "cell_type": "code",
   "execution_count": null,
   "metadata": {},
   "outputs": [],
   "source": [
    "'''\n",
    "Készíts egy függvényt ami feltanít egy lineaáris regressziós modelt, majd visszatér vele.\n",
    "\n",
    "Egy példa a bemenetre: X_train, y_train\n",
    "Egy példa a kimenetre: model\n",
    "return type: sklearn.linear_model._base.LinearRegression\n",
    "függvény neve: train_linear_regression\n",
    "'''"
   ]
  },
  {
   "cell_type": "code",
   "execution_count": 15,
   "metadata": {},
   "outputs": [],
   "source": [
    "#6\n",
    "def train_linear_regression(X_train, y_train):\n",
    "    xc = LinearRegression()\n",
    "    return xc.fit(X_train, y_train)"
   ]
  },
  {
   "cell_type": "code",
   "execution_count": null,
   "metadata": {},
   "outputs": [],
   "source": [
    "'''\n",
    "Készíts egy függvényt ami feltanít egy logisztikus regressziós modelt, majd visszatér vele.\n",
    "\n",
    "Egy példa a bemenetre: X_train, y_train\n",
    "Egy példa a kimenetre: model\n",
    "return type: sklearn.linear_model._base.LogisticRegression\n",
    "függvény neve: train_logistic_regression\n",
    "'''"
   ]
  },
  {
   "cell_type": "code",
   "execution_count": null,
   "metadata": {},
   "outputs": [],
   "source": [
    "#7 \n",
    "def train_logistic_regression(X_train, y_train):\n",
    "    xc = LogisticRegression()\n",
    "    return xc.fit(X_train, y_train)"
   ]
  },
  {
   "cell_type": "code",
   "execution_count": null,
   "metadata": {},
   "outputs": [],
   "source": [
    "''' \n",
    "Készíts egy függvényt, ami a feltanított modellel predikciót tud végre hajtani.\n",
    "\n",
    "Egy példa a bemenetre: model, X_test\n",
    "Egy példa a kimenetre: y_pred\n",
    "return type: numpy.ndarray\n",
    "függvény neve: predict\n",
    "'''"
   ]
  },
  {
   "cell_type": "code",
   "execution_count": null,
   "metadata": {},
   "outputs": [],
   "source": [
    "#8 \n",
    "def predict(model, X_test):\n",
    "    return model.predict(X_test)"
   ]
  },
  {
   "cell_type": "code",
   "execution_count": null,
   "metadata": {},
   "outputs": [],
   "source": [
    "'''\n",
    "Készíts egy függvényt, ami vizualizálni tudja a label és a predikciók közötti eltérést.\n",
    "Használj scatter plotot a diagram elkészítéséhez.\n",
    "\n",
    "Diagram címe legyen: 'Actual vs Predicted Target Values'\n",
    "Az x tengely címe legyen: 'Actual'\n",
    "Az y tengely címe legyen: 'Predicted'\n",
    "\n",
    "Egy példa a bemenetre: y_test, y_pred\n",
    "Egy példa a kimenetre: scatter plot\n",
    "return type: matplotlib.figure.Figure\n",
    "függvény neve: plot_actual_vs_predicted\n",
    "'''"
   ]
  },
  {
   "cell_type": "code",
   "execution_count": null,
   "metadata": {},
   "outputs": [],
   "source": [
    "#9\n",
    "def plot_actual_vs_predicted(y_test, y_pred):\n",
    "    fig, ax = plt.subplots()\n",
    "\n",
    "    ax.set_title('Actual vs Predicted Target Values')\n",
    "    ax.set_xlabel('Actual')\n",
    "    ax.set_ylabel('Predicted')\n",
    "    ax.scatter(y_test, y_pred)\n",
    "\n",
    "    return fig"
   ]
  },
  {
   "cell_type": "code",
   "execution_count": null,
   "metadata": {},
   "outputs": [],
   "source": [
    "''' \n",
    "Készíts egy függvényt, ami a Négyzetes hiba (MSE) értékét számolja ki a predikciók és a valós értékek között.\n",
    "\n",
    "Egy példa a bemenetre: y_test, y_pred\n",
    "Egy példa a kimenetre: mse\n",
    "return type: float\n",
    "függvény neve: evaluate_model\n",
    "'''"
   ]
  },
  {
   "cell_type": "code",
   "execution_count": null,
   "metadata": {},
   "outputs": [],
   "source": [
    "#10\n",
    "def evaluate_model(y_test, y_pred):\n",
    "    xc = mean_squared_error(y_test, y_pred)\n",
    "    return xc"
   ]
  }
 ],
 "metadata": {
  "kernelspec": {
   "display_name": "Python 3",
   "language": "python",
   "name": "python3"
  },
  "language_info": {
   "codemirror_mode": {
    "name": "ipython",
    "version": 3
   },
   "file_extension": ".py",
   "mimetype": "text/x-python",
   "name": "python",
   "nbconvert_exporter": "python",
   "pygments_lexer": "ipython3",
   "version": "3.10.5"
  },
  "orig_nbformat": 4
 },
 "nbformat": 4,
 "nbformat_minor": 2
}
