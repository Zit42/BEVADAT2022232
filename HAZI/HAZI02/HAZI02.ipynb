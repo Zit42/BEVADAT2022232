{
 "cells": [
  {
   "cell_type": "code",
   "execution_count": 147,
   "metadata": {},
   "outputs": [],
   "source": [
    "import numpy as np"
   ]
  },
  {
   "cell_type": "code",
   "execution_count": 148,
   "metadata": {},
   "outputs": [],
   "source": [
    "#FONTOS!!!\n",
    "\n",
    "# CSAK OTT LEHET HASZNÁLNI FOR LOOP-OT AHOL A FELADAT KÜLÖN KÉRI!\n",
    "# [1,2,3,4] --> ezek az értékek np.array-ek. Ahol listát kérek paraméterként ott külön ki fogom emelni!\n",
    "# Ha végeztél a feladatokkal, akkor notebook-ot alakítsd át .py.\n",
    "# A FÁJLBAN CSAK A FÜGGVÉNYEK LEGYENEK! (KOMMENTEK MARADHATNAK)"
   ]
  },
  {
   "cell_type": "code",
   "execution_count": 149,
   "metadata": {},
   "outputs": [],
   "source": [
    "# Írj egy olyan fügvényt, ami megfordítja egy 2d array oszlopait. Bemenetként egy array-t vár.\n",
    "# Be: [[1,2],[3,4]]\n",
    "# Ki: [[2,1],[4,3]]\n",
    "# column_swap()"
   ]
  },
  {
   "cell_type": "code",
   "execution_count": 150,
   "metadata": {},
   "outputs": [],
   "source": [
    "#1\n",
    "def column_swap(inp: np.array)->np.array:\n",
    "    if len(inp)==0:\n",
    "        return inp\n",
    "    ###inp[:,[0,1]] = inp[:,[1,0]]\n",
    "    res=np.flip(inp, 1)\n",
    "    return res\n",
    "\n",
    "#print(column_swap(np.array([[1,2],[3,4]])))\n",
    "#print(column_swap(np.array([])))\n",
    "#print(type(column_swap(np.array([[1,2],[3,4]]))))"
   ]
  },
  {
   "cell_type": "code",
   "execution_count": 151,
   "metadata": {},
   "outputs": [],
   "source": [
    "# Készíts egy olyan függvényt ami összehasonlít két array-t és adjon vissza egy array-ben, hogy hol egyenlőek \n",
    "# Pl Be: [7,8,9], [9,8,7] \n",
    "# Ki: [1]\n",
    "# compare_two_array()\n",
    "# egyenlő elemszámúakra kell csak hogy működjön"
   ]
  },
  {
   "cell_type": "code",
   "execution_count": 152,
   "metadata": {},
   "outputs": [],
   "source": [
    "#2\n",
    "def compare_two_array(inp1: np.array, inp2:np.array)->np.array:\n",
    "    return np.where(np.equal(inp1,inp2))\n",
    "\n",
    "#print(compare_two_array([7,8,9], [9,8,7] ))\n",
    "#print(compare_two_array([], [] ))\n"
   ]
  },
  {
   "cell_type": "code",
   "execution_count": 153,
   "metadata": {},
   "outputs": [],
   "source": [
    "# Készíts egy olyan függvényt, ami vissza adja string-ként a megadott array dimenzióit:\n",
    "# Be: [[1,2,3], [4,5,6]]\n",
    "# Ki: \"sor: 2, oszlop: 3, melyseg: 1\"\n",
    "# get_array_shape()\n",
    "# 3D-vel még műküdnie kell!, "
   ]
  },
  {
   "cell_type": "code",
   "execution_count": 154,
   "metadata": {},
   "outputs": [],
   "source": [
    "#3\n",
    "def get_array_shape(inp: np.array)->str:\n",
    "    shaped = np.shape(inp)\n",
    "    return f\"sor: {shaped[0]}, oszlop: {shaped[1]}, melyseg: {shaped[2] if len(shaped) == 3 else 1}\"\n",
    "\n",
    "#print(get_array_shape(np.array([[1,2,3], [4,5,6]])))\n",
    "#print(get_array_shape(np.array([[], []])))\n",
    "#print(type(get_array_shape(np.array([[1,2,3], [4,5,6]]))))"
   ]
  },
  {
   "cell_type": "code",
   "execution_count": 155,
   "metadata": {},
   "outputs": [],
   "source": [
    "# Készíts egy olyan függvényt, aminek segítségével elő tudod állítani egy neurális hálózat tanításához szükséges pred-et egy numpy array-ből. \n",
    "# Bementként add meg az array-t, illetve hogy mennyi class-od van. Kimenetként pedig adjon vissza egy 2d array-t, ahol a sorok az egyes elemek.\n",
    "# Minden nullákkal teli legyen és csak ott álljon egyes, ahol a bementi tömb megjelöli. \n",
    "# Pl. ha 1 van a bemeneten és 4 classod van, akkor az adott sorban az array-ban a [1] helyen álljon egy 1-es, a többi helyen pedig 0.\n",
    "# Be: [1, 2, 0, 3], 4\n",
    "# Ki: [[0,1,0,0], [0, 0, 1, 0], [1, 0, 0, 0], [0, 0, 0, 1]]\n",
    "# encode_Y()"
   ]
  },
  {
   "cell_type": "code",
   "execution_count": 156,
   "metadata": {},
   "outputs": [
    {
     "name": "stdout",
     "output_type": "stream",
     "text": [
      "[[0 1 0 0]\n",
      " [0 0 1 0]\n",
      " [1 0 0 0]\n",
      " [0 0 0 1]]\n",
      "<class 'numpy.ndarray'>\n"
     ]
    }
   ],
   "source": [
    "#4\n",
    "def encode_Y(inp: np.array, cnt:int)->np.array:\n",
    "    a=np.zeros((cnt,cnt), int)\n",
    "    a[np.arange(len(a)), inp] = 1\n",
    "    return a\n",
    "\n",
    "#print(encode_Y([1, 2, 0, 3], 4))\n",
    "#print(type(encode_Y([1, 2, 0, 3], 4)))"
   ]
  },
  {
   "cell_type": "code",
   "execution_count": 157,
   "metadata": {},
   "outputs": [],
   "source": [
    "# A fenti feladatnak valósítsd meg a kiértékelését. Adj meg a 2d array-t és adj vissza a decodolt változatát\n",
    "# Be:  [[0,1,0,0], [0, 0, 1, 0], [1, 0, 0, 0], [0, 0, 0, 1]]\n",
    "# Ki:  [1, 2, 0, 3]\n",
    "# decode_Y()"
   ]
  },
  {
   "cell_type": "code",
   "execution_count": 158,
   "metadata": {},
   "outputs": [
    {
     "name": "stdout",
     "output_type": "stream",
     "text": [
      "[1 2 0 3]\n",
      "<class 'numpy.ndarray'>\n",
      "[]\n"
     ]
    }
   ],
   "source": [
    "#5\n",
    "def decode_Y(inp: np.array)->np.array:\n",
    "    return np.nonzero(inp)[1]\n",
    "\n",
    "#print(decode_Y([[0,1,0,0], [0, 0, 1, 0], [1, 0, 0, 0], [0, 0, 0, 1]]))\n",
    "#print(type(decode_Y([[0,1,0,0], [0, 0, 1, 0], [1, 0, 0, 0], [0, 0, 0, 1]])))\n",
    "#print(decode_Y([[]]))"
   ]
  },
  {
   "cell_type": "code",
   "execution_count": 159,
   "metadata": {},
   "outputs": [],
   "source": [
    "# Készíts egy olyan függvényt, ami képes kiértékelni egy neurális háló eredményét! \n",
    "# Bemenetként egy listát és egy array-t és adja vissza azt az elemet, aminek a legnagyobb a valószínüsége(értéke) a listából.\n",
    "# Be: ['alma', 'körte', 'szilva'], [0.2, 0.2, 0.6]. \n",
    "# Az ['alma', 'körte', 'szilva'] egy lista!\n",
    "# Ki: 'szilva'\n",
    "# eval_classification()"
   ]
  },
  {
   "cell_type": "code",
   "execution_count": 160,
   "metadata": {},
   "outputs": [
    {
     "name": "stdout",
     "output_type": "stream",
     "text": [
      "szilva\n"
     ]
    }
   ],
   "source": [
    "#6\n",
    "def eval_classification(l:list, a:np.array)->str:\n",
    "    xc = np.argmax(a)\n",
    "    ##xc= np.where(a==np.amax(a))\n",
    "    return l[xc]\n",
    "\n",
    "#print(eval_classification(['alma', 'körte', 'szilva'], [0.2, 0.2, 0.6]))"
   ]
  },
  {
   "cell_type": "code",
   "execution_count": 161,
   "metadata": {},
   "outputs": [],
   "source": [
    "# Készíts egy olyan függvényt, ahol az 1D array-ben a páratlan számokat -1-re cseréli\n",
    "# Be: [1,2,3,4,5,6]\n",
    "# Ki: [-1,2,-1,4,-1,6]\n",
    "# repalce_odd_numbers()"
   ]
  },
  {
   "cell_type": "code",
   "execution_count": 162,
   "metadata": {},
   "outputs": [
    {
     "name": "stdout",
     "output_type": "stream",
     "text": [
      "[-1  2 -1  4 -1  6]\n",
      "<class 'numpy.ndarray'>\n"
     ]
    }
   ],
   "source": [
    "#7\n",
    "def replace_odd_numbers(inp: np.array)->np.array:\n",
    "    inp[inp%2 !=0 ] =-1\n",
    "    return inp\n",
    "\n",
    "#print(replace_odd_numbers(np.array([1,2,3,4,5,6])))\n",
    "#print(type(replace_odd_numbers(np.array([1,2,3,4,5,6]))))"
   ]
  },
  {
   "cell_type": "code",
   "execution_count": 163,
   "metadata": {},
   "outputs": [],
   "source": [
    "# Készíts egy olyan függvényt, ami egy array értékeit -1 és 1-re változtatja, \n",
    "#   attól függően, hogy az adott elem nagyobb vagy kisebb a paraméterként megadott számnál.\n",
    "# Ha a szám kisebb mint a megadott érték, akkor -1, ha nagyobb vagy egyenlő, akkor pedig 1.\n",
    "# Be: [1, 2, 5, 0], 2\n",
    "# Ki: [-1, 1, 1, -1]\n",
    "# replace_by_value()"
   ]
  },
  {
   "cell_type": "code",
   "execution_count": 164,
   "metadata": {},
   "outputs": [
    {
     "name": "stdout",
     "output_type": "stream",
     "text": [
      "[-1  1  1 -1]\n",
      "<class 'numpy.ndarray'>\n"
     ]
    }
   ],
   "source": [
    "#8\n",
    "def replace_by_value(inp: np.array, numb: int)->np.array:\n",
    "    inp=np.where(inp <numb,-1,1)\n",
    "    return inp\n",
    "\n",
    "#print(replace_by_value(np.array([1, 2, 5, 0]), 2))\n",
    "#print(type(replace_by_value(np.array([1, 2, 5, 0]), 2)))"
   ]
  },
  {
   "cell_type": "code",
   "execution_count": 165,
   "metadata": {},
   "outputs": [],
   "source": [
    "# Készíts egy olyan függvényt, ami egy array értékeit összeszorozza és az eredményt visszaadja\n",
    "# Be: [1,2,3,4]\n",
    "# Ki: 24\n",
    "# array_multi()\n",
    "# Ha több dimenziós a tömb, akkor az egész tömb elemeinek szorzatával térjen vissza"
   ]
  },
  {
   "cell_type": "code",
   "execution_count": 166,
   "metadata": {},
   "outputs": [
    {
     "name": "stdout",
     "output_type": "stream",
     "text": [
      "24\n",
      "48\n",
      "0\n"
     ]
    }
   ],
   "source": [
    "#9\n",
    "def array_multi(inp: np.array)->np.array:\n",
    "    if len(inp)==0:\n",
    "        return 0\n",
    "    return np.prod(inp)\n",
    "\n",
    "#print(array_multi(np.array([1,2,3,4])))\n",
    "#print(array_multi(np.array([[2,2],[3,4]])))\n",
    "#print(array_multi(np.array([])))"
   ]
  },
  {
   "cell_type": "code",
   "execution_count": 167,
   "metadata": {},
   "outputs": [],
   "source": [
    "# Készíts egy olyan függvényt, ami egy 2D array értékeit összeszorozza és egy olyan array-el tér vissza, aminek az elemei a soroknak a szorzata\n",
    "# Be: [[1, 2], [3, 4]]\n",
    "# Ki: [2, 12]\n",
    "# array_multi_2d()"
   ]
  },
  {
   "cell_type": "code",
   "execution_count": 168,
   "metadata": {},
   "outputs": [
    {
     "name": "stdout",
     "output_type": "stream",
     "text": [
      "[ 4 12]\n",
      "0\n"
     ]
    }
   ],
   "source": [
    "#10\n",
    "def array_multi_2d(inp: np.array)->np.array:\n",
    "    if len(inp)==0:\n",
    "        return 0\n",
    "    return np.prod(inp, axis=1)\n",
    "\n",
    "#print(array_multi_2d(np.array([[2,2],[3,4]])))\n",
    "#print(array_multi_2d(np.array([])))\n",
    "#print(array_multi_2d(np.array([],[])))"
   ]
  },
  {
   "cell_type": "code",
   "execution_count": 169,
   "metadata": {},
   "outputs": [],
   "source": [
    "# Készíts egy olyan függvényt, amit egy meglévő numpy array-hez készít egy bordert nullásokkal.\n",
    "# Bementként egy array-t várjon és kimenetként egy array jelenjen meg aminek van border-je\n",
    "# Be: [[1,2],[3,4]]\n",
    "# Ki: [[0,0,0,0],[0,1,2,0],[0,3,4,0],[0,0,0,0]]\n",
    "# add_border()\n"
   ]
  },
  {
   "cell_type": "code",
   "execution_count": 170,
   "metadata": {},
   "outputs": [],
   "source": [
    "#11\n",
    "def add_border(inp: np.array)->np.array:\n",
    "    return np.pad(inp, pad_width=1, mode='constant', constant_values=0)\n",
    "\n",
    "#print (add_border([[1,2],[3,4]]))\n",
    "#print (add_border([]))"
   ]
  },
  {
   "cell_type": "code",
   "execution_count": 171,
   "metadata": {},
   "outputs": [],
   "source": [
    "# A KÖTVETKEZŐ FELADATOKHOZ NÉZZÉTEK MEG A NUMPY DATA TYPE-JÁT!"
   ]
  },
  {
   "cell_type": "code",
   "execution_count": 172,
   "metadata": {},
   "outputs": [],
   "source": [
    "# Készíts egy olyan függvényt ami két dátum között felsorolja az összes napot és ezt adja vissza egy numpy array-ben.\n",
    "# A fgv ként str vár paraméterként 'YYYY-MM' formában.\n",
    "# Be: '2023-03', '2023-04'  # mind a kettő paraméter str.\n",
    "# Ki: ['2023-03-01', '2023-03-02', .. , '2023-03-31',]\n",
    "# list_days()"
   ]
  },
  {
   "cell_type": "code",
   "execution_count": 173,
   "metadata": {},
   "outputs": [
    {
     "name": "stdout",
     "output_type": "stream",
     "text": [
      "['2011-01-01' '2011-01-02' '2011-01-03' '2011-01-04' '2011-01-05'\n",
      " '2011-01-06' '2011-01-07' '2011-01-08' '2011-01-09' '2011-01-10'\n",
      " '2011-01-11' '2011-01-12' '2011-01-13' '2011-01-14' '2011-01-15'\n",
      " '2011-01-16' '2011-01-17' '2011-01-18' '2011-01-19' '2011-01-20'\n",
      " '2011-01-21' '2011-01-22' '2011-01-23' '2011-01-24' '2011-01-25'\n",
      " '2011-01-26' '2011-01-27' '2011-01-28' '2011-01-29' '2011-01-30'\n",
      " '2011-01-31']\n",
      "<class 'numpy.ndarray'>\n"
     ]
    }
   ],
   "source": [
    "#12\n",
    "def list_days(start_date:str, end_date:str)->np.array:\n",
    "    return np.arange(start_date, end_date, dtype='datetime64[D]')\n",
    "\n",
    "#print(list_days(\"2011-01\",\"2011-02\"))\n",
    "#print(type(list_days(\"2011-01\",\"2011-02\")))"
   ]
  },
  {
   "cell_type": "code",
   "execution_count": 174,
   "metadata": {},
   "outputs": [],
   "source": [
    "# Írj egy fügvényt ami vissza adja az aktuális dátumot az alábbi formában: YYYY-MM-DD. Térjen vissza egy 'numpy.datetime64' típussal.\n",
    "# Be:\n",
    "# Ki: 2017-03-24\n",
    "### get_act_date()"
   ]
  },
  {
   "cell_type": "code",
   "execution_count": 175,
   "metadata": {},
   "outputs": [
    {
     "name": "stdout",
     "output_type": "stream",
     "text": [
      "2023-03-10\n",
      "<class 'numpy.datetime64'>\n"
     ]
    }
   ],
   "source": [
    "#13\n",
    "def get_act_date()->np.datetime64:\n",
    "    return np.datetime64('today')\n",
    "\n",
    "#print(get_act_date())\n",
    "#print(type(get_act_date()))"
   ]
  },
  {
   "cell_type": "code",
   "execution_count": 176,
   "metadata": {},
   "outputs": [],
   "source": [
    "# Írj egy olyan függvényt ami visszadja, hogy mennyi másodperc telt el 1970 január 01. 00:02:00 óta. Int-el térjen vissza\n",
    "# Be: \n",
    "# Ki: másodpercben az idó, int-é kasztolva\n",
    "# sec_from_1970()"
   ]
  },
  {
   "cell_type": "code",
   "execution_count": 177,
   "metadata": {},
   "outputs": [
    {
     "name": "stdout",
     "output_type": "stream",
     "text": [
      "1678466231\n",
      "<class 'numpy.int32'>\n"
     ]
    }
   ],
   "source": [
    "#14\n",
    "def sec_from_1970()->int:\n",
    "    xc=np.datetime64('now')\n",
    "    return xc.astype('datetime64[s]').astype('int')-120\n",
    "\n",
    "#print(sec_from_1970())\n",
    "#print(type(sec_from_1970()))"
   ]
  },
  {
   "cell_type": "code",
   "execution_count": null,
   "metadata": {},
   "outputs": [],
   "source": []
  }
 ],
 "metadata": {
  "kernelspec": {
   "display_name": "Python 3",
   "language": "python",
   "name": "python3"
  },
  "language_info": {
   "codemirror_mode": {
    "name": "ipython",
    "version": 3
   },
   "file_extension": ".py",
   "mimetype": "text/x-python",
   "name": "python",
   "nbconvert_exporter": "python",
   "pygments_lexer": "ipython3",
   "version": "3.10.5"
  },
  "orig_nbformat": 4
 },
 "nbformat": 4,
 "nbformat_minor": 2
}
