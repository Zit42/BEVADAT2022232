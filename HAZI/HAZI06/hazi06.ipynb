{
 "cells": [
  {
   "cell_type": "code",
   "execution_count": 4,
   "metadata": {},
   "outputs": [],
   "source": [
    "import numpy as np\n",
    "import pandas as pd\n",
    "from sklearn.model_selection import train_test_split\n",
    "from sklearn.metrics import accuracy_score\n"
   ]
  },
  {
   "cell_type": "code",
   "execution_count": 5,
   "metadata": {},
   "outputs": [],
   "source": [
    "from src.DecisionTreeClassifier import DecisionTreeClassifier"
   ]
  },
  {
   "cell_type": "code",
   "execution_count": 6,
   "metadata": {},
   "outputs": [],
   "source": [
    "from NJCleaner import NJCleaner\n"
   ]
  },
  {
   "cell_type": "code",
   "execution_count": 3,
   "metadata": {},
   "outputs": [],
   "source": [
    "NJCleaner(\"2018_03.csv\").prep_df('Cleaned.csv')"
   ]
  },
  {
   "cell_type": "code",
   "execution_count": 16,
   "metadata": {},
   "outputs": [],
   "source": [
    "data = pd.read_csv(\"Cleaned.csv\")"
   ]
  },
  {
   "cell_type": "code",
   "execution_count": 17,
   "metadata": {},
   "outputs": [],
   "source": [
    "X = data.iloc[:, : -1].values\n",
    "Y = data.iloc[:, -1].values.reshape(-1, 1)\n",
    "x_train, X_test, Y_train, Y_test = train_test_split(X, Y, test_size=.2, random_state=41)"
   ]
  },
  {
   "cell_type": "code",
   "execution_count": 10,
   "metadata": {},
   "outputs": [
    {
     "name": "stdout",
     "output_type": "stream",
     "text": [
      "split: 2 depth:  2 0.7823333333333333\n",
      "split: 2 depth:  3 0.7839166666666667\n",
      "split: 2 depth:  4 0.7849166666666667\n",
      "split: 2 depth:  5 0.7885833333333333\n",
      "split: 3 depth:  2 0.7823333333333333\n",
      "split: 3 depth:  3 0.7839166666666667\n",
      "split: 3 depth:  4 0.7849166666666667\n"
     ]
    },
    {
     "ename": "KeyboardInterrupt",
     "evalue": "",
     "output_type": "error",
     "traceback": [
      "\u001b[1;31m---------------------------------------------------------------------------\u001b[0m",
      "\u001b[1;31mKeyboardInterrupt\u001b[0m                         Traceback (most recent call last)",
      "Cell \u001b[1;32mIn[10], line 4\u001b[0m\n\u001b[0;32m      2\u001b[0m \u001b[39mfor\u001b[39;00m j \u001b[39min\u001b[39;00m \u001b[39mrange\u001b[39m(\u001b[39m2\u001b[39m, \u001b[39m6\u001b[39m):\n\u001b[0;32m      3\u001b[0m     classifier \u001b[39m=\u001b[39m DecisionTreeClassifier(min_samples_split\u001b[39m=\u001b[39mi, max_depth\u001b[39m=\u001b[39mj)\n\u001b[1;32m----> 4\u001b[0m     classifier\u001b[39m.\u001b[39;49mfit(x_train, Y_train)\n\u001b[0;32m      5\u001b[0m     Y_pred \u001b[39m=\u001b[39m classifier\u001b[39m.\u001b[39mpredict(X_test)\n\u001b[0;32m      6\u001b[0m     \u001b[39mprint\u001b[39m(\u001b[39m\"\u001b[39m\u001b[39msplit:\u001b[39m\u001b[39m\"\u001b[39m, i, \u001b[39m\"\u001b[39m\u001b[39mdepth: \u001b[39m\u001b[39m\"\u001b[39m, j,accuracy_score(Y_test, Y_pred))\n",
      "File \u001b[1;32md:\\sources\\BEVADAT2022232\\HAZI\\HAZI06\\src\\DecisionTreeClassifier.py:106\u001b[0m, in \u001b[0;36mDecisionTreeClassifier.fit\u001b[1;34m(self, X, Y)\u001b[0m\n\u001b[0;32m    103\u001b[0m \u001b[39mdef\u001b[39;00m \u001b[39mfit\u001b[39m(\u001b[39mself\u001b[39m, X, Y):\n\u001b[0;32m    105\u001b[0m     dataset \u001b[39m=\u001b[39m np\u001b[39m.\u001b[39mconcatenate((X, Y), axis\u001b[39m=\u001b[39m\u001b[39m1\u001b[39m)\n\u001b[1;32m--> 106\u001b[0m     \u001b[39mself\u001b[39m\u001b[39m.\u001b[39mroot \u001b[39m=\u001b[39m \u001b[39mself\u001b[39;49m\u001b[39m.\u001b[39;49mbuild_tree(dataset)\n",
      "File \u001b[1;32md:\\sources\\BEVADAT2022232\\HAZI\\HAZI06\\src\\DecisionTreeClassifier.py:21\u001b[0m, in \u001b[0;36mDecisionTreeClassifier.build_tree\u001b[1;34m(self, dataset, curr_depth)\u001b[0m\n\u001b[0;32m     19\u001b[0m     \u001b[39mif\u001b[39;00m best_split[\u001b[39m\"\u001b[39m\u001b[39minfo_gain\u001b[39m\u001b[39m\"\u001b[39m]\u001b[39m>\u001b[39m\u001b[39m0\u001b[39m: \n\u001b[0;32m     20\u001b[0m         left_subtree \u001b[39m=\u001b[39m \u001b[39mself\u001b[39m\u001b[39m.\u001b[39mbuild_tree(best_split[\u001b[39m\"\u001b[39m\u001b[39mdataset_left\u001b[39m\u001b[39m\"\u001b[39m], curr_depth\u001b[39m+\u001b[39m\u001b[39m1\u001b[39m)\n\u001b[1;32m---> 21\u001b[0m         right_subtree \u001b[39m=\u001b[39m \u001b[39mself\u001b[39;49m\u001b[39m.\u001b[39;49mbuild_tree(best_split[\u001b[39m\"\u001b[39;49m\u001b[39mdataset_right\u001b[39;49m\u001b[39m\"\u001b[39;49m], curr_depth\u001b[39m+\u001b[39;49m\u001b[39m1\u001b[39;49m)\n\u001b[0;32m     22\u001b[0m         \u001b[39mreturn\u001b[39;00m Node(best_split[\u001b[39m\"\u001b[39m\u001b[39mfeature_index\u001b[39m\u001b[39m\"\u001b[39m], best_split[\u001b[39m\"\u001b[39m\u001b[39mthreshold\u001b[39m\u001b[39m\"\u001b[39m],\n\u001b[0;32m     23\u001b[0m                     left_subtree, right_subtree, best_split[\u001b[39m\"\u001b[39m\u001b[39minfo_gain\u001b[39m\u001b[39m\"\u001b[39m])\n\u001b[0;32m     26\u001b[0m leaf_value \u001b[39m=\u001b[39m \u001b[39mself\u001b[39m\u001b[39m.\u001b[39mcalculate_leaf_value(Y)\n",
      "File \u001b[1;32md:\\sources\\BEVADAT2022232\\HAZI\\HAZI06\\src\\DecisionTreeClassifier.py:21\u001b[0m, in \u001b[0;36mDecisionTreeClassifier.build_tree\u001b[1;34m(self, dataset, curr_depth)\u001b[0m\n\u001b[0;32m     19\u001b[0m     \u001b[39mif\u001b[39;00m best_split[\u001b[39m\"\u001b[39m\u001b[39minfo_gain\u001b[39m\u001b[39m\"\u001b[39m]\u001b[39m>\u001b[39m\u001b[39m0\u001b[39m: \n\u001b[0;32m     20\u001b[0m         left_subtree \u001b[39m=\u001b[39m \u001b[39mself\u001b[39m\u001b[39m.\u001b[39mbuild_tree(best_split[\u001b[39m\"\u001b[39m\u001b[39mdataset_left\u001b[39m\u001b[39m\"\u001b[39m], curr_depth\u001b[39m+\u001b[39m\u001b[39m1\u001b[39m)\n\u001b[1;32m---> 21\u001b[0m         right_subtree \u001b[39m=\u001b[39m \u001b[39mself\u001b[39;49m\u001b[39m.\u001b[39;49mbuild_tree(best_split[\u001b[39m\"\u001b[39;49m\u001b[39mdataset_right\u001b[39;49m\u001b[39m\"\u001b[39;49m], curr_depth\u001b[39m+\u001b[39;49m\u001b[39m1\u001b[39;49m)\n\u001b[0;32m     22\u001b[0m         \u001b[39mreturn\u001b[39;00m Node(best_split[\u001b[39m\"\u001b[39m\u001b[39mfeature_index\u001b[39m\u001b[39m\"\u001b[39m], best_split[\u001b[39m\"\u001b[39m\u001b[39mthreshold\u001b[39m\u001b[39m\"\u001b[39m],\n\u001b[0;32m     23\u001b[0m                     left_subtree, right_subtree, best_split[\u001b[39m\"\u001b[39m\u001b[39minfo_gain\u001b[39m\u001b[39m\"\u001b[39m])\n\u001b[0;32m     26\u001b[0m leaf_value \u001b[39m=\u001b[39m \u001b[39mself\u001b[39m\u001b[39m.\u001b[39mcalculate_leaf_value(Y)\n",
      "    \u001b[1;31m[... skipping similar frames: DecisionTreeClassifier.build_tree at line 21 (1 times)]\u001b[0m\n",
      "File \u001b[1;32md:\\sources\\BEVADAT2022232\\HAZI\\HAZI06\\src\\DecisionTreeClassifier.py:21\u001b[0m, in \u001b[0;36mDecisionTreeClassifier.build_tree\u001b[1;34m(self, dataset, curr_depth)\u001b[0m\n\u001b[0;32m     19\u001b[0m     \u001b[39mif\u001b[39;00m best_split[\u001b[39m\"\u001b[39m\u001b[39minfo_gain\u001b[39m\u001b[39m\"\u001b[39m]\u001b[39m>\u001b[39m\u001b[39m0\u001b[39m: \n\u001b[0;32m     20\u001b[0m         left_subtree \u001b[39m=\u001b[39m \u001b[39mself\u001b[39m\u001b[39m.\u001b[39mbuild_tree(best_split[\u001b[39m\"\u001b[39m\u001b[39mdataset_left\u001b[39m\u001b[39m\"\u001b[39m], curr_depth\u001b[39m+\u001b[39m\u001b[39m1\u001b[39m)\n\u001b[1;32m---> 21\u001b[0m         right_subtree \u001b[39m=\u001b[39m \u001b[39mself\u001b[39;49m\u001b[39m.\u001b[39;49mbuild_tree(best_split[\u001b[39m\"\u001b[39;49m\u001b[39mdataset_right\u001b[39;49m\u001b[39m\"\u001b[39;49m], curr_depth\u001b[39m+\u001b[39;49m\u001b[39m1\u001b[39;49m)\n\u001b[0;32m     22\u001b[0m         \u001b[39mreturn\u001b[39;00m Node(best_split[\u001b[39m\"\u001b[39m\u001b[39mfeature_index\u001b[39m\u001b[39m\"\u001b[39m], best_split[\u001b[39m\"\u001b[39m\u001b[39mthreshold\u001b[39m\u001b[39m\"\u001b[39m],\n\u001b[0;32m     23\u001b[0m                     left_subtree, right_subtree, best_split[\u001b[39m\"\u001b[39m\u001b[39minfo_gain\u001b[39m\u001b[39m\"\u001b[39m])\n\u001b[0;32m     26\u001b[0m leaf_value \u001b[39m=\u001b[39m \u001b[39mself\u001b[39m\u001b[39m.\u001b[39mcalculate_leaf_value(Y)\n",
      "File \u001b[1;32md:\\sources\\BEVADAT2022232\\HAZI\\HAZI06\\src\\DecisionTreeClassifier.py:18\u001b[0m, in \u001b[0;36mDecisionTreeClassifier.build_tree\u001b[1;34m(self, dataset, curr_depth)\u001b[0m\n\u001b[0;32m     16\u001b[0m num_samples, num_features \u001b[39m=\u001b[39m np\u001b[39m.\u001b[39mshape(X)\n\u001b[0;32m     17\u001b[0m \u001b[39mif\u001b[39;00m num_samples\u001b[39m>\u001b[39m\u001b[39m=\u001b[39m\u001b[39mself\u001b[39m\u001b[39m.\u001b[39mmin_samples_split \u001b[39mand\u001b[39;00m curr_depth\u001b[39m<\u001b[39m\u001b[39m=\u001b[39m\u001b[39mself\u001b[39m\u001b[39m.\u001b[39mmax_depth:\n\u001b[1;32m---> 18\u001b[0m     best_split \u001b[39m=\u001b[39m \u001b[39mself\u001b[39;49m\u001b[39m.\u001b[39;49mget_best_split(dataset, num_samples, num_features)\n\u001b[0;32m     19\u001b[0m     \u001b[39mif\u001b[39;00m best_split[\u001b[39m\"\u001b[39m\u001b[39minfo_gain\u001b[39m\u001b[39m\"\u001b[39m]\u001b[39m>\u001b[39m\u001b[39m0\u001b[39m: \n\u001b[0;32m     20\u001b[0m         left_subtree \u001b[39m=\u001b[39m \u001b[39mself\u001b[39m\u001b[39m.\u001b[39mbuild_tree(best_split[\u001b[39m\"\u001b[39m\u001b[39mdataset_left\u001b[39m\u001b[39m\"\u001b[39m], curr_depth\u001b[39m+\u001b[39m\u001b[39m1\u001b[39m)\n",
      "File \u001b[1;32md:\\sources\\BEVADAT2022232\\HAZI\\HAZI06\\src\\DecisionTreeClassifier.py:39\u001b[0m, in \u001b[0;36mDecisionTreeClassifier.get_best_split\u001b[1;34m(self, dataset, num_samples, num_features)\u001b[0m\n\u001b[0;32m     37\u001b[0m possible_thresholds \u001b[39m=\u001b[39m np\u001b[39m.\u001b[39munique(feature_values)\n\u001b[0;32m     38\u001b[0m \u001b[39mfor\u001b[39;00m threshold \u001b[39min\u001b[39;00m possible_thresholds: \n\u001b[1;32m---> 39\u001b[0m     dataset_left, dataset_right \u001b[39m=\u001b[39m \u001b[39mself\u001b[39;49m\u001b[39m.\u001b[39;49msplit(dataset, feature_index, threshold)\n\u001b[0;32m     40\u001b[0m     \u001b[39mif\u001b[39;00m \u001b[39mlen\u001b[39m(dataset_left)\u001b[39m>\u001b[39m\u001b[39m0\u001b[39m \u001b[39mand\u001b[39;00m \u001b[39mlen\u001b[39m(dataset_right)\u001b[39m>\u001b[39m\u001b[39m0\u001b[39m:\n\u001b[0;32m     41\u001b[0m         y, left_y, right_y \u001b[39m=\u001b[39m dataset[:, \u001b[39m-\u001b[39m\u001b[39m1\u001b[39m], dataset_left[:, \u001b[39m-\u001b[39m\u001b[39m1\u001b[39m], dataset_right[:, \u001b[39m-\u001b[39m\u001b[39m1\u001b[39m]\n",
      "File \u001b[1;32md:\\sources\\BEVADAT2022232\\HAZI\\HAZI06\\src\\DecisionTreeClassifier.py:54\u001b[0m, in \u001b[0;36mDecisionTreeClassifier.split\u001b[1;34m(self, dataset, feature_index, threshold)\u001b[0m\n\u001b[0;32m     53\u001b[0m \u001b[39mdef\u001b[39;00m \u001b[39msplit\u001b[39m(\u001b[39mself\u001b[39m, dataset, feature_index, threshold):\n\u001b[1;32m---> 54\u001b[0m     dataset_left \u001b[39m=\u001b[39m np\u001b[39m.\u001b[39;49marray([row \u001b[39mfor\u001b[39;49;00m row \u001b[39min\u001b[39;49;00m dataset \u001b[39mif\u001b[39;49;00m row[feature_index]\u001b[39m<\u001b[39;49m\u001b[39m=\u001b[39;49mthreshold])\n\u001b[0;32m     55\u001b[0m     dataset_right \u001b[39m=\u001b[39m np\u001b[39m.\u001b[39marray([row \u001b[39mfor\u001b[39;00m row \u001b[39min\u001b[39;00m dataset \u001b[39mif\u001b[39;00m row[feature_index]\u001b[39m>\u001b[39mthreshold])\n\u001b[0;32m     56\u001b[0m     \u001b[39mreturn\u001b[39;00m dataset_left, dataset_right\n",
      "\u001b[1;31mKeyboardInterrupt\u001b[0m: "
     ]
    }
   ],
   "source": [
    "for i in range(2, 6):\n",
    "    for j in range(2, 6):\n",
    "        classifier = DecisionTreeClassifier(min_samples_split=i, max_depth=j)\n",
    "        classifier.fit(x_train, Y_train)\n",
    "        Y_pred = classifier.predict(X_test)\n",
    "        print(\"split:\", i, \"depth: \", j,accuracy_score(Y_test, Y_pred))"
   ]
  },
  {
   "cell_type": "code",
   "execution_count": 20,
   "metadata": {},
   "outputs": [
    {
     "ename": "KeyboardInterrupt",
     "evalue": "",
     "output_type": "error",
     "traceback": [
      "\u001b[1;31m---------------------------------------------------------------------------\u001b[0m",
      "\u001b[1;31mKeyboardInterrupt\u001b[0m                         Traceback (most recent call last)",
      "Cell \u001b[1;32mIn[20], line 4\u001b[0m\n\u001b[0;32m      2\u001b[0m j\u001b[39m=\u001b[39m\u001b[39m11\u001b[39m\n\u001b[0;32m      3\u001b[0m classifier \u001b[39m=\u001b[39m DecisionTreeClassifier(min_samples_split\u001b[39m=\u001b[39m\u001b[39m25\u001b[39m, max_depth\u001b[39m=\u001b[39m\u001b[39m11\u001b[39m)\n\u001b[1;32m----> 4\u001b[0m classifier\u001b[39m.\u001b[39;49mfit(x_train, Y_train)\n\u001b[0;32m      5\u001b[0m Y_pred \u001b[39m=\u001b[39m classifier\u001b[39m.\u001b[39mpredict(X_test)\n\u001b[0;32m      6\u001b[0m \u001b[39mprint\u001b[39m(accuracy_score(Y_test, Y_pred))\n",
      "File \u001b[1;32md:\\sources\\BEVADAT2022232\\HAZI\\HAZI06\\src\\DecisionTreeClassifier.py:106\u001b[0m, in \u001b[0;36mDecisionTreeClassifier.fit\u001b[1;34m(self, X, Y)\u001b[0m\n\u001b[0;32m    103\u001b[0m \u001b[39mdef\u001b[39;00m \u001b[39mfit\u001b[39m(\u001b[39mself\u001b[39m, X, Y):\n\u001b[0;32m    105\u001b[0m     dataset \u001b[39m=\u001b[39m np\u001b[39m.\u001b[39mconcatenate((X, Y), axis\u001b[39m=\u001b[39m\u001b[39m1\u001b[39m)\n\u001b[1;32m--> 106\u001b[0m     \u001b[39mself\u001b[39m\u001b[39m.\u001b[39mroot \u001b[39m=\u001b[39m \u001b[39mself\u001b[39;49m\u001b[39m.\u001b[39;49mbuild_tree(dataset)\n",
      "File \u001b[1;32md:\\sources\\BEVADAT2022232\\HAZI\\HAZI06\\src\\DecisionTreeClassifier.py:21\u001b[0m, in \u001b[0;36mDecisionTreeClassifier.build_tree\u001b[1;34m(self, dataset, curr_depth)\u001b[0m\n\u001b[0;32m     19\u001b[0m     \u001b[39mif\u001b[39;00m best_split[\u001b[39m\"\u001b[39m\u001b[39minfo_gain\u001b[39m\u001b[39m\"\u001b[39m]\u001b[39m>\u001b[39m\u001b[39m0\u001b[39m: \n\u001b[0;32m     20\u001b[0m         left_subtree \u001b[39m=\u001b[39m \u001b[39mself\u001b[39m\u001b[39m.\u001b[39mbuild_tree(best_split[\u001b[39m\"\u001b[39m\u001b[39mdataset_left\u001b[39m\u001b[39m\"\u001b[39m], curr_depth\u001b[39m+\u001b[39m\u001b[39m1\u001b[39m)\n\u001b[1;32m---> 21\u001b[0m         right_subtree \u001b[39m=\u001b[39m \u001b[39mself\u001b[39;49m\u001b[39m.\u001b[39;49mbuild_tree(best_split[\u001b[39m\"\u001b[39;49m\u001b[39mdataset_right\u001b[39;49m\u001b[39m\"\u001b[39;49m], curr_depth\u001b[39m+\u001b[39;49m\u001b[39m1\u001b[39;49m)\n\u001b[0;32m     22\u001b[0m         \u001b[39mreturn\u001b[39;00m Node(best_split[\u001b[39m\"\u001b[39m\u001b[39mfeature_index\u001b[39m\u001b[39m\"\u001b[39m], best_split[\u001b[39m\"\u001b[39m\u001b[39mthreshold\u001b[39m\u001b[39m\"\u001b[39m],\n\u001b[0;32m     23\u001b[0m                     left_subtree, right_subtree, best_split[\u001b[39m\"\u001b[39m\u001b[39minfo_gain\u001b[39m\u001b[39m\"\u001b[39m])\n\u001b[0;32m     26\u001b[0m leaf_value \u001b[39m=\u001b[39m \u001b[39mself\u001b[39m\u001b[39m.\u001b[39mcalculate_leaf_value(Y)\n",
      "File \u001b[1;32md:\\sources\\BEVADAT2022232\\HAZI\\HAZI06\\src\\DecisionTreeClassifier.py:21\u001b[0m, in \u001b[0;36mDecisionTreeClassifier.build_tree\u001b[1;34m(self, dataset, curr_depth)\u001b[0m\n\u001b[0;32m     19\u001b[0m     \u001b[39mif\u001b[39;00m best_split[\u001b[39m\"\u001b[39m\u001b[39minfo_gain\u001b[39m\u001b[39m\"\u001b[39m]\u001b[39m>\u001b[39m\u001b[39m0\u001b[39m: \n\u001b[0;32m     20\u001b[0m         left_subtree \u001b[39m=\u001b[39m \u001b[39mself\u001b[39m\u001b[39m.\u001b[39mbuild_tree(best_split[\u001b[39m\"\u001b[39m\u001b[39mdataset_left\u001b[39m\u001b[39m\"\u001b[39m], curr_depth\u001b[39m+\u001b[39m\u001b[39m1\u001b[39m)\n\u001b[1;32m---> 21\u001b[0m         right_subtree \u001b[39m=\u001b[39m \u001b[39mself\u001b[39;49m\u001b[39m.\u001b[39;49mbuild_tree(best_split[\u001b[39m\"\u001b[39;49m\u001b[39mdataset_right\u001b[39;49m\u001b[39m\"\u001b[39;49m], curr_depth\u001b[39m+\u001b[39;49m\u001b[39m1\u001b[39;49m)\n\u001b[0;32m     22\u001b[0m         \u001b[39mreturn\u001b[39;00m Node(best_split[\u001b[39m\"\u001b[39m\u001b[39mfeature_index\u001b[39m\u001b[39m\"\u001b[39m], best_split[\u001b[39m\"\u001b[39m\u001b[39mthreshold\u001b[39m\u001b[39m\"\u001b[39m],\n\u001b[0;32m     23\u001b[0m                     left_subtree, right_subtree, best_split[\u001b[39m\"\u001b[39m\u001b[39minfo_gain\u001b[39m\u001b[39m\"\u001b[39m])\n\u001b[0;32m     26\u001b[0m leaf_value \u001b[39m=\u001b[39m \u001b[39mself\u001b[39m\u001b[39m.\u001b[39mcalculate_leaf_value(Y)\n",
      "    \u001b[1;31m[... skipping similar frames: DecisionTreeClassifier.build_tree at line 21 (2 times)]\u001b[0m\n",
      "File \u001b[1;32md:\\sources\\BEVADAT2022232\\HAZI\\HAZI06\\src\\DecisionTreeClassifier.py:20\u001b[0m, in \u001b[0;36mDecisionTreeClassifier.build_tree\u001b[1;34m(self, dataset, curr_depth)\u001b[0m\n\u001b[0;32m     18\u001b[0m best_split \u001b[39m=\u001b[39m \u001b[39mself\u001b[39m\u001b[39m.\u001b[39mget_best_split(dataset, num_samples, num_features)\n\u001b[0;32m     19\u001b[0m \u001b[39mif\u001b[39;00m best_split[\u001b[39m\"\u001b[39m\u001b[39minfo_gain\u001b[39m\u001b[39m\"\u001b[39m]\u001b[39m>\u001b[39m\u001b[39m0\u001b[39m: \n\u001b[1;32m---> 20\u001b[0m     left_subtree \u001b[39m=\u001b[39m \u001b[39mself\u001b[39;49m\u001b[39m.\u001b[39;49mbuild_tree(best_split[\u001b[39m\"\u001b[39;49m\u001b[39mdataset_left\u001b[39;49m\u001b[39m\"\u001b[39;49m], curr_depth\u001b[39m+\u001b[39;49m\u001b[39m1\u001b[39;49m)\n\u001b[0;32m     21\u001b[0m     right_subtree \u001b[39m=\u001b[39m \u001b[39mself\u001b[39m\u001b[39m.\u001b[39mbuild_tree(best_split[\u001b[39m\"\u001b[39m\u001b[39mdataset_right\u001b[39m\u001b[39m\"\u001b[39m], curr_depth\u001b[39m+\u001b[39m\u001b[39m1\u001b[39m)\n\u001b[0;32m     22\u001b[0m     \u001b[39mreturn\u001b[39;00m Node(best_split[\u001b[39m\"\u001b[39m\u001b[39mfeature_index\u001b[39m\u001b[39m\"\u001b[39m], best_split[\u001b[39m\"\u001b[39m\u001b[39mthreshold\u001b[39m\u001b[39m\"\u001b[39m],\n\u001b[0;32m     23\u001b[0m                 left_subtree, right_subtree, best_split[\u001b[39m\"\u001b[39m\u001b[39minfo_gain\u001b[39m\u001b[39m\"\u001b[39m])\n",
      "    \u001b[1;31m[... skipping similar frames: DecisionTreeClassifier.build_tree at line 21 (1 times)]\u001b[0m\n",
      "File \u001b[1;32md:\\sources\\BEVADAT2022232\\HAZI\\HAZI06\\src\\DecisionTreeClassifier.py:20\u001b[0m, in \u001b[0;36mDecisionTreeClassifier.build_tree\u001b[1;34m(self, dataset, curr_depth)\u001b[0m\n\u001b[0;32m     18\u001b[0m best_split \u001b[39m=\u001b[39m \u001b[39mself\u001b[39m\u001b[39m.\u001b[39mget_best_split(dataset, num_samples, num_features)\n\u001b[0;32m     19\u001b[0m \u001b[39mif\u001b[39;00m best_split[\u001b[39m\"\u001b[39m\u001b[39minfo_gain\u001b[39m\u001b[39m\"\u001b[39m]\u001b[39m>\u001b[39m\u001b[39m0\u001b[39m: \n\u001b[1;32m---> 20\u001b[0m     left_subtree \u001b[39m=\u001b[39m \u001b[39mself\u001b[39;49m\u001b[39m.\u001b[39;49mbuild_tree(best_split[\u001b[39m\"\u001b[39;49m\u001b[39mdataset_left\u001b[39;49m\u001b[39m\"\u001b[39;49m], curr_depth\u001b[39m+\u001b[39;49m\u001b[39m1\u001b[39;49m)\n\u001b[0;32m     21\u001b[0m     right_subtree \u001b[39m=\u001b[39m \u001b[39mself\u001b[39m\u001b[39m.\u001b[39mbuild_tree(best_split[\u001b[39m\"\u001b[39m\u001b[39mdataset_right\u001b[39m\u001b[39m\"\u001b[39m], curr_depth\u001b[39m+\u001b[39m\u001b[39m1\u001b[39m)\n\u001b[0;32m     22\u001b[0m     \u001b[39mreturn\u001b[39;00m Node(best_split[\u001b[39m\"\u001b[39m\u001b[39mfeature_index\u001b[39m\u001b[39m\"\u001b[39m], best_split[\u001b[39m\"\u001b[39m\u001b[39mthreshold\u001b[39m\u001b[39m\"\u001b[39m],\n\u001b[0;32m     23\u001b[0m                 left_subtree, right_subtree, best_split[\u001b[39m\"\u001b[39m\u001b[39minfo_gain\u001b[39m\u001b[39m\"\u001b[39m])\n",
      "    \u001b[1;31m[... skipping similar frames: DecisionTreeClassifier.build_tree at line 20 (1 times)]\u001b[0m\n",
      "File \u001b[1;32md:\\sources\\BEVADAT2022232\\HAZI\\HAZI06\\src\\DecisionTreeClassifier.py:20\u001b[0m, in \u001b[0;36mDecisionTreeClassifier.build_tree\u001b[1;34m(self, dataset, curr_depth)\u001b[0m\n\u001b[0;32m     18\u001b[0m best_split \u001b[39m=\u001b[39m \u001b[39mself\u001b[39m\u001b[39m.\u001b[39mget_best_split(dataset, num_samples, num_features)\n\u001b[0;32m     19\u001b[0m \u001b[39mif\u001b[39;00m best_split[\u001b[39m\"\u001b[39m\u001b[39minfo_gain\u001b[39m\u001b[39m\"\u001b[39m]\u001b[39m>\u001b[39m\u001b[39m0\u001b[39m: \n\u001b[1;32m---> 20\u001b[0m     left_subtree \u001b[39m=\u001b[39m \u001b[39mself\u001b[39;49m\u001b[39m.\u001b[39;49mbuild_tree(best_split[\u001b[39m\"\u001b[39;49m\u001b[39mdataset_left\u001b[39;49m\u001b[39m\"\u001b[39;49m], curr_depth\u001b[39m+\u001b[39;49m\u001b[39m1\u001b[39;49m)\n\u001b[0;32m     21\u001b[0m     right_subtree \u001b[39m=\u001b[39m \u001b[39mself\u001b[39m\u001b[39m.\u001b[39mbuild_tree(best_split[\u001b[39m\"\u001b[39m\u001b[39mdataset_right\u001b[39m\u001b[39m\"\u001b[39m], curr_depth\u001b[39m+\u001b[39m\u001b[39m1\u001b[39m)\n\u001b[0;32m     22\u001b[0m     \u001b[39mreturn\u001b[39;00m Node(best_split[\u001b[39m\"\u001b[39m\u001b[39mfeature_index\u001b[39m\u001b[39m\"\u001b[39m], best_split[\u001b[39m\"\u001b[39m\u001b[39mthreshold\u001b[39m\u001b[39m\"\u001b[39m],\n\u001b[0;32m     23\u001b[0m                 left_subtree, right_subtree, best_split[\u001b[39m\"\u001b[39m\u001b[39minfo_gain\u001b[39m\u001b[39m\"\u001b[39m])\n",
      "File \u001b[1;32md:\\sources\\BEVADAT2022232\\HAZI\\HAZI06\\src\\DecisionTreeClassifier.py:21\u001b[0m, in \u001b[0;36mDecisionTreeClassifier.build_tree\u001b[1;34m(self, dataset, curr_depth)\u001b[0m\n\u001b[0;32m     19\u001b[0m     \u001b[39mif\u001b[39;00m best_split[\u001b[39m\"\u001b[39m\u001b[39minfo_gain\u001b[39m\u001b[39m\"\u001b[39m]\u001b[39m>\u001b[39m\u001b[39m0\u001b[39m: \n\u001b[0;32m     20\u001b[0m         left_subtree \u001b[39m=\u001b[39m \u001b[39mself\u001b[39m\u001b[39m.\u001b[39mbuild_tree(best_split[\u001b[39m\"\u001b[39m\u001b[39mdataset_left\u001b[39m\u001b[39m\"\u001b[39m], curr_depth\u001b[39m+\u001b[39m\u001b[39m1\u001b[39m)\n\u001b[1;32m---> 21\u001b[0m         right_subtree \u001b[39m=\u001b[39m \u001b[39mself\u001b[39;49m\u001b[39m.\u001b[39;49mbuild_tree(best_split[\u001b[39m\"\u001b[39;49m\u001b[39mdataset_right\u001b[39;49m\u001b[39m\"\u001b[39;49m], curr_depth\u001b[39m+\u001b[39;49m\u001b[39m1\u001b[39;49m)\n\u001b[0;32m     22\u001b[0m         \u001b[39mreturn\u001b[39;00m Node(best_split[\u001b[39m\"\u001b[39m\u001b[39mfeature_index\u001b[39m\u001b[39m\"\u001b[39m], best_split[\u001b[39m\"\u001b[39m\u001b[39mthreshold\u001b[39m\u001b[39m\"\u001b[39m],\n\u001b[0;32m     23\u001b[0m                     left_subtree, right_subtree, best_split[\u001b[39m\"\u001b[39m\u001b[39minfo_gain\u001b[39m\u001b[39m\"\u001b[39m])\n\u001b[0;32m     26\u001b[0m leaf_value \u001b[39m=\u001b[39m \u001b[39mself\u001b[39m\u001b[39m.\u001b[39mcalculate_leaf_value(Y)\n",
      "File \u001b[1;32md:\\sources\\BEVADAT2022232\\HAZI\\HAZI06\\src\\DecisionTreeClassifier.py:18\u001b[0m, in \u001b[0;36mDecisionTreeClassifier.build_tree\u001b[1;34m(self, dataset, curr_depth)\u001b[0m\n\u001b[0;32m     16\u001b[0m num_samples, num_features \u001b[39m=\u001b[39m np\u001b[39m.\u001b[39mshape(X)\n\u001b[0;32m     17\u001b[0m \u001b[39mif\u001b[39;00m num_samples\u001b[39m>\u001b[39m\u001b[39m=\u001b[39m\u001b[39mself\u001b[39m\u001b[39m.\u001b[39mmin_samples_split \u001b[39mand\u001b[39;00m curr_depth\u001b[39m<\u001b[39m\u001b[39m=\u001b[39m\u001b[39mself\u001b[39m\u001b[39m.\u001b[39mmax_depth:\n\u001b[1;32m---> 18\u001b[0m     best_split \u001b[39m=\u001b[39m \u001b[39mself\u001b[39;49m\u001b[39m.\u001b[39;49mget_best_split(dataset, num_samples, num_features)\n\u001b[0;32m     19\u001b[0m     \u001b[39mif\u001b[39;00m best_split[\u001b[39m\"\u001b[39m\u001b[39minfo_gain\u001b[39m\u001b[39m\"\u001b[39m]\u001b[39m>\u001b[39m\u001b[39m0\u001b[39m: \n\u001b[0;32m     20\u001b[0m         left_subtree \u001b[39m=\u001b[39m \u001b[39mself\u001b[39m\u001b[39m.\u001b[39mbuild_tree(best_split[\u001b[39m\"\u001b[39m\u001b[39mdataset_left\u001b[39m\u001b[39m\"\u001b[39m], curr_depth\u001b[39m+\u001b[39m\u001b[39m1\u001b[39m)\n",
      "File \u001b[1;32md:\\sources\\BEVADAT2022232\\HAZI\\HAZI06\\src\\DecisionTreeClassifier.py:42\u001b[0m, in \u001b[0;36mDecisionTreeClassifier.get_best_split\u001b[1;34m(self, dataset, num_samples, num_features)\u001b[0m\n\u001b[0;32m     40\u001b[0m \u001b[39mif\u001b[39;00m \u001b[39mlen\u001b[39m(dataset_left)\u001b[39m>\u001b[39m\u001b[39m0\u001b[39m \u001b[39mand\u001b[39;00m \u001b[39mlen\u001b[39m(dataset_right)\u001b[39m>\u001b[39m\u001b[39m0\u001b[39m:\n\u001b[0;32m     41\u001b[0m     y, left_y, right_y \u001b[39m=\u001b[39m dataset[:, \u001b[39m-\u001b[39m\u001b[39m1\u001b[39m], dataset_left[:, \u001b[39m-\u001b[39m\u001b[39m1\u001b[39m], dataset_right[:, \u001b[39m-\u001b[39m\u001b[39m1\u001b[39m]\n\u001b[1;32m---> 42\u001b[0m     curr_info_gain \u001b[39m=\u001b[39m \u001b[39mself\u001b[39;49m\u001b[39m.\u001b[39;49minformation_gain(y, left_y, right_y, \u001b[39m\"\u001b[39;49m\u001b[39mgini\u001b[39;49m\u001b[39m\"\u001b[39;49m)\n\u001b[0;32m     43\u001b[0m     \u001b[39mif\u001b[39;00m curr_info_gain\u001b[39m>\u001b[39mmax_info_gain:\n\u001b[0;32m     44\u001b[0m         best_split[\u001b[39m\"\u001b[39m\u001b[39mfeature_index\u001b[39m\u001b[39m\"\u001b[39m] \u001b[39m=\u001b[39m feature_index\n",
      "File \u001b[1;32md:\\sources\\BEVADAT2022232\\HAZI\\HAZI06\\src\\DecisionTreeClassifier.py:62\u001b[0m, in \u001b[0;36mDecisionTreeClassifier.information_gain\u001b[1;34m(self, parent, l_child, r_child, mode)\u001b[0m\n\u001b[0;32m     60\u001b[0m weight_r \u001b[39m=\u001b[39m \u001b[39mlen\u001b[39m(r_child) \u001b[39m/\u001b[39m \u001b[39mlen\u001b[39m(parent)\n\u001b[0;32m     61\u001b[0m \u001b[39mif\u001b[39;00m mode\u001b[39m==\u001b[39m\u001b[39m\"\u001b[39m\u001b[39mgini\u001b[39m\u001b[39m\"\u001b[39m:\n\u001b[1;32m---> 62\u001b[0m     gain \u001b[39m=\u001b[39m \u001b[39mself\u001b[39;49m\u001b[39m.\u001b[39;49mgini_index(parent) \u001b[39m-\u001b[39m (weight_l\u001b[39m*\u001b[39m\u001b[39mself\u001b[39m\u001b[39m.\u001b[39mgini_index(l_child) \u001b[39m+\u001b[39m weight_r\u001b[39m*\u001b[39m\u001b[39mself\u001b[39m\u001b[39m.\u001b[39mgini_index(r_child))\n\u001b[0;32m     63\u001b[0m \u001b[39melse\u001b[39;00m:\n\u001b[0;32m     64\u001b[0m     gain \u001b[39m=\u001b[39m \u001b[39mself\u001b[39m\u001b[39m.\u001b[39mentropy(parent) \u001b[39m-\u001b[39m (weight_l\u001b[39m*\u001b[39m\u001b[39mself\u001b[39m\u001b[39m.\u001b[39mentropy(l_child) \u001b[39m+\u001b[39m weight_r\u001b[39m*\u001b[39m\u001b[39mself\u001b[39m\u001b[39m.\u001b[39mentropy(r_child))\n",
      "File \u001b[1;32md:\\sources\\BEVADAT2022232\\HAZI\\HAZI06\\src\\DecisionTreeClassifier.py:79\u001b[0m, in \u001b[0;36mDecisionTreeClassifier.gini_index\u001b[1;34m(self, y)\u001b[0m\n\u001b[0;32m     77\u001b[0m gini \u001b[39m=\u001b[39m \u001b[39m0\u001b[39m\n\u001b[0;32m     78\u001b[0m \u001b[39mfor\u001b[39;00m \u001b[39mcls\u001b[39m \u001b[39min\u001b[39;00m class_labels:\n\u001b[1;32m---> 79\u001b[0m     p_cls \u001b[39m=\u001b[39m \u001b[39mlen\u001b[39;49m(y[y \u001b[39m==\u001b[39;49m \u001b[39mcls\u001b[39;49m]) \u001b[39m/\u001b[39m \u001b[39mlen\u001b[39m(y)\n\u001b[0;32m     80\u001b[0m     gini \u001b[39m+\u001b[39m\u001b[39m=\u001b[39m p_cls\u001b[39m*\u001b[39m\u001b[39m*\u001b[39m\u001b[39m2\u001b[39m\n\u001b[0;32m     81\u001b[0m \u001b[39mreturn\u001b[39;00m \u001b[39m1\u001b[39m \u001b[39m-\u001b[39m gini\n",
      "\u001b[1;31mKeyboardInterrupt\u001b[0m: "
     ]
    }
   ],
   "source": [
    "\n",
    "classifier = DecisionTreeClassifier(min_samples_split=25, max_depth=11)\n",
    "classifier.fit(x_train, Y_train)\n",
    "Y_pred = classifier.predict(X_test)\n",
    "print(accuracy_score(Y_test, Y_pred))"
   ]
  },
  {
   "cell_type": "code",
   "execution_count": null,
   "metadata": {},
   "outputs": [],
   "source": [
    "classifier = DecisionTreeClassifier(min_samples_split=50, max_depth=11)\n",
    "classifier.fit(x_train, Y_train)\n",
    "Y_pred = classifier.predict(X_test)\n",
    "print(\"split:\", i, \"depth: \", j,accuracy_score(Y_test, Y_pred))"
   ]
  },
  {
   "cell_type": "code",
   "execution_count": null,
   "metadata": {},
   "outputs": [],
   "source": []
  }
 ],
 "metadata": {
  "kernelspec": {
   "display_name": "Python 3",
   "language": "python",
   "name": "python3"
  },
  "language_info": {
   "codemirror_mode": {
    "name": "ipython",
    "version": 3
   },
   "file_extension": ".py",
   "mimetype": "text/x-python",
   "name": "python",
   "nbconvert_exporter": "python",
   "pygments_lexer": "ipython3",
   "version": "3.10.5"
  },
  "orig_nbformat": 4
 },
 "nbformat": 4,
 "nbformat_minor": 2
}
