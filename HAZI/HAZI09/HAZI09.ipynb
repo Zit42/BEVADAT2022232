{
 "cells": [
  {
   "cell_type": "code",
   "execution_count": 1,
   "metadata": {},
   "outputs": [],
   "source": [
    "# imports\n",
    "import matplotlib.pyplot as plt\n",
    "import seaborn as sns\n",
    "sns.set()\n",
    "import numpy as np\n",
    "from sklearn.cluster import KMeans\n",
    "from sklearn.metrics import accuracy_score\n",
    "from scipy.stats import mode\n",
    "from sklearn.metrics import confusion_matrix"
   ]
  },
  {
   "cell_type": "code",
   "execution_count": 2,
   "metadata": {},
   "outputs": [],
   "source": [
    "# Készíts egy függvényt ami betölti a digits datasetet \n",
    "# NOTE: használd az sklearn load_digits-et\n",
    "# Függvény neve: load_digits()\n",
    "# Függvény visszatérési értéke: a load_digits visszatérési értéke\n",
    "\n",
    "#1\n",
    "\n",
    "import sklearn.datasets\n",
    "import pandas as pd\n",
    "\n",
    "def load_digits():\n",
    "    return sklearn.datasets.load_digits()\n"
   ]
  },
  {
   "cell_type": "code",
   "execution_count": 3,
   "metadata": {},
   "outputs": [
    {
     "name": "stdout",
     "output_type": "stream",
     "text": [
      "   pixel_0_0  pixel_0_1  pixel_0_2  pixel_0_3  pixel_0_4  pixel_0_5  \\\n",
      "0        0.0        0.0        5.0       13.0        9.0        1.0   \n",
      "1        0.0        0.0        0.0       12.0       13.0        5.0   \n",
      "2        0.0        0.0        0.0        4.0       15.0       12.0   \n",
      "\n",
      "   pixel_0_6  pixel_0_7  pixel_1_0  pixel_1_1  ...  pixel_6_6  pixel_6_7  \\\n",
      "0        0.0        0.0        0.0        0.0  ...        0.0        0.0   \n",
      "1        0.0        0.0        0.0        0.0  ...        0.0        0.0   \n",
      "2        0.0        0.0        0.0        0.0  ...        5.0        0.0   \n",
      "\n",
      "   pixel_7_0  pixel_7_1  pixel_7_2  pixel_7_3  pixel_7_4  pixel_7_5  \\\n",
      "0        0.0        0.0        6.0       13.0       10.0        0.0   \n",
      "1        0.0        0.0        0.0       11.0       16.0       10.0   \n",
      "2        0.0        0.0        0.0        3.0       11.0       16.0   \n",
      "\n",
      "   pixel_7_6  pixel_7_7  \n",
      "0        0.0        0.0  \n",
      "1        0.0        0.0  \n",
      "2        9.0        0.0  \n",
      "\n",
      "[3 rows x 64 columns]\n"
     ]
    }
   ],
   "source": [
    "# Vizsgáld meg a betöltött adatszetet (milyen elemek vannak benne stb.)\n",
    "\n",
    "data= load_digits()\n",
    "df = pd.DataFrame(data.data, columns=data.feature_names)\n",
    "print(df.head(3))\n"
   ]
  },
  {
   "cell_type": "code",
   "execution_count": 4,
   "metadata": {},
   "outputs": [
    {
     "name": "stdout",
     "output_type": "stream",
     "text": [
      "(1797, 64)\n",
      "<bound method DataFrame.value_counts of       pixel_0_0  pixel_0_1  pixel_0_2  pixel_0_3  pixel_0_4  pixel_0_5  \\\n",
      "0           0.0        0.0        5.0       13.0        9.0        1.0   \n",
      "1           0.0        0.0        0.0       12.0       13.0        5.0   \n",
      "2           0.0        0.0        0.0        4.0       15.0       12.0   \n",
      "3           0.0        0.0        7.0       15.0       13.0        1.0   \n",
      "4           0.0        0.0        0.0        1.0       11.0        0.0   \n",
      "...         ...        ...        ...        ...        ...        ...   \n",
      "1792        0.0        0.0        4.0       10.0       13.0        6.0   \n",
      "1793        0.0        0.0        6.0       16.0       13.0       11.0   \n",
      "1794        0.0        0.0        1.0       11.0       15.0        1.0   \n",
      "1795        0.0        0.0        2.0       10.0        7.0        0.0   \n",
      "1796        0.0        0.0       10.0       14.0        8.0        1.0   \n",
      "\n",
      "      pixel_0_6  pixel_0_7  pixel_1_0  pixel_1_1  ...  pixel_6_6  pixel_6_7  \\\n",
      "0           0.0        0.0        0.0        0.0  ...        0.0        0.0   \n",
      "1           0.0        0.0        0.0        0.0  ...        0.0        0.0   \n",
      "2           0.0        0.0        0.0        0.0  ...        5.0        0.0   \n",
      "3           0.0        0.0        0.0        8.0  ...        9.0        0.0   \n",
      "4           0.0        0.0        0.0        0.0  ...        0.0        0.0   \n",
      "...         ...        ...        ...        ...  ...        ...        ...   \n",
      "1792        0.0        0.0        0.0        1.0  ...        4.0        0.0   \n",
      "1793        1.0        0.0        0.0        0.0  ...        1.0        0.0   \n",
      "1794        0.0        0.0        0.0        0.0  ...        0.0        0.0   \n",
      "1795        0.0        0.0        0.0        0.0  ...        2.0        0.0   \n",
      "1796        0.0        0.0        0.0        2.0  ...        8.0        0.0   \n",
      "\n",
      "      pixel_7_0  pixel_7_1  pixel_7_2  pixel_7_3  pixel_7_4  pixel_7_5  \\\n",
      "0           0.0        0.0        6.0       13.0       10.0        0.0   \n",
      "1           0.0        0.0        0.0       11.0       16.0       10.0   \n",
      "2           0.0        0.0        0.0        3.0       11.0       16.0   \n",
      "3           0.0        0.0        7.0       13.0       13.0        9.0   \n",
      "4           0.0        0.0        0.0        2.0       16.0        4.0   \n",
      "...         ...        ...        ...        ...        ...        ...   \n",
      "1792        0.0        0.0        2.0       14.0       15.0        9.0   \n",
      "1793        0.0        0.0        6.0       16.0       14.0        6.0   \n",
      "1794        0.0        0.0        2.0        9.0       13.0        6.0   \n",
      "1795        0.0        0.0        5.0       12.0       16.0       12.0   \n",
      "1796        0.0        1.0        8.0       12.0       14.0       12.0   \n",
      "\n",
      "      pixel_7_6  pixel_7_7  \n",
      "0           0.0        0.0  \n",
      "1           0.0        0.0  \n",
      "2           9.0        0.0  \n",
      "3           0.0        0.0  \n",
      "4           0.0        0.0  \n",
      "...         ...        ...  \n",
      "1792        0.0        0.0  \n",
      "1793        0.0        0.0  \n",
      "1794        0.0        0.0  \n",
      "1795        0.0        0.0  \n",
      "1796        1.0        0.0  \n",
      "\n",
      "[1797 rows x 64 columns]>\n"
     ]
    }
   ],
   "source": [
    "# Vizsgáld meg a data paraméterét a digits dataset-nek (tartalom,shape...)\n",
    "print(df.shape)\n",
    "print(df.value_counts)"
   ]
  },
  {
   "cell_type": "code",
   "execution_count": null,
   "metadata": {},
   "outputs": [],
   "source": [
    "# Készíts egy függvényt ami létrehoz egy KMeans model-t 10 db cluster-el\n",
    "# NOTE: használd az sklearn Kmeans model-jét (random_state legyen 0)\n",
    "# Miután megvan a model predict-elj vele \n",
    "# NOTE: használd a fit_predict-et\n",
    "# Függvény neve: predict(n_clusters:int,random_state:int,digits)\n",
    "# Függvény visszatérési értéke: (model:sklearn.cluster.KMeans,clusters:np.ndarray)\n",
    "\n",
    "#2 \n",
    "\n",
    "rnd =0 \n",
    "def predict(n_clusters:int , random_statet, digits):\n",
    "    random_statet= rnd\n",
    "    model = KMeans(random_state=random_statet, n_clusters=n_clusters)\n",
    "    return model.fit(digits)\n"
   ]
  },
  {
   "cell_type": "code",
   "execution_count": null,
   "metadata": {},
   "outputs": [],
   "source": [
    "# Vizsgáld meg a shape-jét a kapott model cluster_centers_ paraméterének.\n"
   ]
  },
  {
   "cell_type": "code",
   "execution_count": null,
   "metadata": {},
   "outputs": [],
   "source": [
    "# Készíts egy plotot ami a cluster középpontokat megjeleníti\n"
   ]
  },
  {
   "cell_type": "code",
   "execution_count": null,
   "metadata": {},
   "outputs": [],
   "source": [
    "# Készíts egy függvényt ami visszaadja a predictált cluster osztályokat\n",
    "# NOTE: amit a predict-ből visszakaptunk \"clusters\" azok lesznek a predictált cluster osztályok\n",
    "# HELP: amit a model predictált cluster osztályok még nem a labelek, hanem csak random cluster osztályok, \n",
    "#       Hogy label legyen belőlük:\n",
    "#       1. készíts egy result array-t ami ugyan annyi elemű mint a predictált cluster array\n",
    "#       2. menj végig mindegyik cluster osztályon (0,1....9)\n",
    "#       3. készíts egy maszkot ami az adott cluster osztályba tartozó elemeket adja vissza\n",
    "#       4. a digits.target-jét indexeld meg ezzel a maszkkal\n",
    "#       5. számold ki ennel a subarray-nek a móduszát\n",
    "#       6. a result array-ben tedd egyenlővé a módusszal azokat az indexeket ahol a maszk True \n",
    "#       Erre azért van szükség mert semmi nem biztosítja nekünk azt, hogy a \"0\" cluster a \"0\" label lesz, lehet, hogy az \"5\" label lenne az.\n",
    "\n",
    "# Függvény neve: get_labels(clusters:np.ndarray, digits)\n",
    "# Függvény visszatérési értéke: labels:np.ndarray\n"
   ]
  },
  {
   "cell_type": "code",
   "execution_count": null,
   "metadata": {},
   "outputs": [],
   "source": [
    "# Készíts egy függvényt ami kiszámolja a model accuracy-jét\n",
    "# Függvény neve: calc_accuracy(target_labels:np.ndarray,predicted_labels:np.ndarray)\n",
    "# Függvény visszatérési értéke: accuracy:float\n",
    "# NOTE: Kerekítsd 2 tizedes jegyre az accuracy-t"
   ]
  },
  {
   "cell_type": "code",
   "execution_count": null,
   "metadata": {},
   "outputs": [],
   "source": [
    "# Készíts egy confusion mátrixot és plot-old seaborn segítségével\n"
   ]
  }
 ],
 "metadata": {
  "kernelspec": {
   "display_name": "Python 3",
   "language": "python",
   "name": "python3"
  },
  "language_info": {
   "codemirror_mode": {
    "name": "ipython",
    "version": 3
   },
   "file_extension": ".py",
   "mimetype": "text/x-python",
   "name": "python",
   "nbconvert_exporter": "python",
   "pygments_lexer": "ipython3",
   "version": "3.10.5"
  },
  "orig_nbformat": 4
 },
 "nbformat": 4,
 "nbformat_minor": 2
}
